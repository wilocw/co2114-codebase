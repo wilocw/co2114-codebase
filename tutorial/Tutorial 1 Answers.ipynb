{
 "cells": [
  {
   "cell_type": "markdown",
   "id": "27beb72e-d127-48f0-8313-88824ac59e77",
   "metadata": {},
   "source": [
    "![](https://raw.githubusercontent.com/wilocw/co2114-codebase/2024/static/0/uol_banner_red.png)\n",
    "\n",
    "# CO2114<br />Foundations in Artificial Intelligence"
   ]
  },
  {
   "cell_type": "markdown",
   "id": "623b4262-6abd-47b5-82a8-a9fa3e3f0fbb",
   "metadata": {},
   "source": [
    "# Tutorial 1 - Maths Primer 1\n",
    "\n",
    "This tutorial will review the basic mathematical foundations that will be required throughout the remainder of the course. The aim of this tutorial is to act as a reference document for maths concepts used in future lectures, tutorials and labs, and ensure that you have a basic understanding of the techniques that will be used.\n",
    "\n",
    "This tutorial will recap:\n",
    "- Functions\n",
    "- Propositions and representations of logic\n",
    "- Sets, graphs and trees\n",
    "\n",
    "All of these concepts will be grounded in practical Python code so you can see how these concepts directly translate to programming. You may find some parts of this tutorial intuitive, and you may find some parts of it difficult. These maths fundamentals are important to give you a solid foundation in artificial intelligence."
   ]
  },
  {
   "cell_type": "markdown",
   "id": "181d4f51-f13a-4421-b187-ca60168b4cc5",
   "metadata": {},
   "source": [
    "## 1 Functions"
   ]
  },
  {
   "cell_type": "markdown",
   "id": "87d6453c-a9c4-4522-ad0d-47b6e3e41a78",
   "metadata": {},
   "source": [
    "The simple functional form $y = f(X)$ is used across many disciplines and subjects. The function $f$ simply defines the behaviour of a process of transforming input $X$ into output $y$.\n",
    "\n",
    "In Python, the equivalent is a `def`ined function, `f` that takes input `X` and returns `y`.\n",
    "\n",
    "```python\n",
    "def f(x):\n",
    "    # definition\n",
    "    return y\n",
    "```\n",
    "\n",
    "The definition of the function describes _how_ $X$ is transformed. For example, suppose we have a function defined $f: x\\mapsto x+1$. This is simply equivlant to $y = x+1$ or in Python:\n",
    "```python\n",
    "def f(x):\n",
    "    y = x + 1\n",
    "    return y\n",
    "```\n",
    "\n",
    "> Note that when _saying_ $f(X)$ out loud, you would say \"f of X\""
   ]
  },
  {
   "cell_type": "markdown",
   "id": "375393c4-2294-45b6-8934-c18a555f0028",
   "metadata": {},
   "source": [
    "#### Exercise 1a\n",
    "Turn these function definitions into Python functions, where $y = f(X)$"
   ]
  },
  {
   "cell_type": "markdown",
   "id": "ca6c1cc9-7ec3-4174-a8d7-57ffb1b14745",
   "metadata": {},
   "source": [
    "(a) $f : x \\mapsto -x$"
   ]
  },
  {
   "cell_type": "code",
   "execution_count": 1,
   "id": "5010a4c6-2859-41b4-b3e1-1e7236a99a92",
   "metadata": {},
   "outputs": [
    {
     "name": "stdout",
     "output_type": "stream",
     "text": [
      "-10\n"
     ]
    }
   ],
   "source": [
    "def f(x):\n",
    "    y = -x\n",
    "    return y\n",
    "\n",
    "X = 10\n",
    "print(f(X))  #= -10"
   ]
  },
  {
   "cell_type": "markdown",
   "id": "844c452d-9e7d-4c57-9f4d-c913be6b6706",
   "metadata": {},
   "source": [
    "(b) $f: x \\mapsto x^2$"
   ]
  },
  {
   "cell_type": "code",
   "execution_count": 2,
   "id": "e0d4b44f-6356-4fe4-a7ce-423841f74457",
   "metadata": {},
   "outputs": [
    {
     "name": "stdout",
     "output_type": "stream",
     "text": [
      "4\n"
     ]
    }
   ],
   "source": [
    "def f(x):\n",
    "    y = x**2\n",
    "    return y\n",
    "\n",
    "X = 2\n",
    "print(f(X))  #= 4"
   ]
  },
  {
   "cell_type": "markdown",
   "id": "8ab72401-5c08-437a-b71b-ea5cdfbd0d91",
   "metadata": {},
   "source": [
    "(c) $f: x \\mapsto 3x + 2$"
   ]
  },
  {
   "cell_type": "code",
   "execution_count": 3,
   "id": "88f5530a-83c3-4137-84a2-bcbfdeba63c3",
   "metadata": {},
   "outputs": [
    {
     "name": "stdout",
     "output_type": "stream",
     "text": [
      "-1\n"
     ]
    }
   ],
   "source": [
    "def f(x):\n",
    "    y = 3*x + 2\n",
    "    return y\n",
    "\n",
    "X = -1\n",
    "print(f(X))  #= -1"
   ]
  },
  {
   "cell_type": "markdown",
   "id": "bfe98ad9-eb73-407b-8f81-1b266091b5e0",
   "metadata": {},
   "source": [
    "### Lambda Functions"
   ]
  },
  {
   "cell_type": "markdown",
   "id": "c2ca582b-5010-4d7c-8f5a-1db0cadd7ab2",
   "metadata": {},
   "source": [
    "Sometimes, when programming, it may be beneficial to define a function inline for a more light weight approach. In Python, we can utilise anonymous `lambda` functions, which don't have identifers and can simply be assigned to a variable. \n",
    "\n",
    "Consider the following lambda definition for $x\\mapsto x+1$:\n",
    "\n",
    "$$\\underbrace{\\mathrm{\\texttt{lambda x:}}}_{x\\mapsto}\\ \\underbrace{\\mathrm{\\texttt{x+1}}}_{x+1}$$\n",
    "\n",
    "Here, instead of creating a new `def` somewhere else in your code, you can write a simple line in your code, e.g.\n",
    "\n",
    "```python\n",
    "f = lambda x: x + 1\n",
    "y = f(X)\n",
    "```\n",
    "\n",
    "Note that the variable `x` within the lambda function is a local variable, and different to the `X` used as input to `f`. This is the same as typical function definitions."
   ]
  },
  {
   "cell_type": "markdown",
   "id": "93ce6d8e-9d98-4652-8a2a-58c17a3738ae",
   "metadata": {},
   "source": [
    "#### Exercise 1b\n",
    "Reimplement the functions from Exercise 1a as anonymous `lambda` functions."
   ]
  },
  {
   "cell_type": "code",
   "execution_count": 4,
   "id": "00355c59-55cb-45e6-ab90-4b9f50606c33",
   "metadata": {},
   "outputs": [],
   "source": [
    "# f = lambda x: ...\n",
    "#(a)\n",
    "f = lambda x: -x\n",
    "#(b)\n",
    "f = lambda x: x**2\n",
    "#(c)\n",
    "f = lambda x: 3*x + 2"
   ]
  },
  {
   "cell_type": "markdown",
   "id": "0582d1f3-4a3a-4580-9caf-59f5d153bbfc",
   "metadata": {},
   "source": [
    "### Composite Functions"
   ]
  },
  {
   "cell_type": "markdown",
   "id": "446ff0ae-f3cd-42be-8043-ce1352c943e4",
   "metadata": {},
   "source": [
    "Composite functions describe functions that take the output of another function as their input. In reality, you might see this where you need to further process an input.\n",
    "\n",
    "For example, consider two functions $f$ and $g$. Suppose we have $y = g(f(X))$ which is, essentially, the mapping of $X$ by $f$ and then by $g$. You might write this as:\n",
    "\n",
    "$$Z = f(X)$$\n",
    "$$y = g(Z)$$\n",
    "\n",
    "Alternatively, you might write $y = (g\\circ f)(X)$ (\"g of f of X\"). Sometimes you could chain multiple functions in long sequences, and it can be efficient to break them into small sub-functions, such as $f$ and $g$.\n"
   ]
  },
  {
   "cell_type": "markdown",
   "id": "1f511e84-a944-4b2f-8bf5-69d6a0d7555e",
   "metadata": {},
   "source": [
    "Looking at the following example, we have $f:x\\mapsto 1-x$ and $g:x\\mapsto x^2$."
   ]
  },
  {
   "cell_type": "code",
   "execution_count": 5,
   "id": "8c4c257d-a4d0-4dd7-96e3-9e7a280b6bc8",
   "metadata": {},
   "outputs": [],
   "source": [
    "def f(x):\n",
    "    y = 1-x\n",
    "    return y\n",
    "\n",
    "def g(x):\n",
    "    y = x**2\n",
    "    return y"
   ]
  },
  {
   "cell_type": "code",
   "execution_count": 6,
   "id": "4e20592b-789c-42e6-80c8-b4dce1c9924d",
   "metadata": {},
   "outputs": [],
   "source": [
    "## or alternatively\n",
    "f = lambda x: 1-x\n",
    "g = lambda x: x**2"
   ]
  },
  {
   "cell_type": "markdown",
   "id": "ea8ec7bb-f814-438d-bf2a-67c71a9c9865",
   "metadata": {},
   "source": [
    "We can define $g\\circ f$ and $f\\circ g$ easily by just creating a _new_ function that simply combines the two in their respective execution orders:"
   ]
  },
  {
   "cell_type": "code",
   "execution_count": 7,
   "id": "1ba9d6ce-3d16-4493-9c8d-d53d9d2158d9",
   "metadata": {},
   "outputs": [],
   "source": [
    "def g_of_f(x):\n",
    "    z = f(x)\n",
    "    y = g(z)\n",
    "    return y\n",
    "\n",
    "def f_of_g(x):\n",
    "    z = g(x)\n",
    "    y = f(z)\n",
    "    return y"
   ]
  },
  {
   "cell_type": "code",
   "execution_count": 8,
   "id": "205c5408-b85e-4295-af5e-dd437d1ac447",
   "metadata": {},
   "outputs": [],
   "source": [
    "## or alternatively\n",
    "g_of_f = lambda x: g(f(x))\n",
    "f_of_g = lambda x: f(g(x))"
   ]
  },
  {
   "cell_type": "markdown",
   "id": "591cd1e6-ed22-40a6-922e-894a870b6dc9",
   "metadata": {},
   "source": [
    "We can look at the outputs of these functions using `pyplot`.\n",
    "\n",
    "> Note that I am defining a utility function here called `apply()` that evaluates a function on every element of a list."
   ]
  },
  {
   "cell_type": "code",
   "execution_count": 9,
   "id": "4e2995a3-e576-4115-bd87-6cf35d191692",
   "metadata": {},
   "outputs": [
    {
     "data": {
      "image/png": "[encoded data removed]",
      "text/plain": [
       "<Figure size 640x480 with 1 Axes>"
      ]
     },
     "metadata": {},
     "output_type": "display_data"
    }
   ],
   "source": [
    "from matplotlib import pyplot as plt\n",
    "\n",
    "def apply(f, X):\n",
    "    return [f(x) for x in X]\n",
    "\n",
    "# create a list of inputs from -5 to 5\n",
    "X = [-5,-4,-3,-2,-1,0,1,2,3,4,5];\n",
    "\n",
    "# plot g(f(X))\n",
    "plt.plot(X, apply(g_of_f, X), '.', label=\"g of f\")\n",
    "# plot(f(g(X))\n",
    "plt.plot(X, apply(f_of_g, X), 'x', label=\"f of g\")\n",
    "\n",
    "# annotate the plot\n",
    "plt.xlabel('X'), plt.ylabel('y'),plt.legend();"
   ]
  },
  {
   "cell_type": "markdown",
   "id": "f50d01c8-8987-43f9-ad1e-918663a66cd1",
   "metadata": {},
   "source": [
    "#### Exercise 1c\n",
    "Consider the function definitions: $f:x\\mapsto 1-x$ and $g:x\\mapsto x^2$.\n",
    "\n",
    "Can you work out the equivalent function that defines:\n",
    "\n",
    "(a) $f\\circ g$?\n",
    "\n",
    "(b) $g\\circ f$?\n",
    "\n",
    "(c) $g\\circ f\\circ g\\circ f$?"
   ]
  },
  {
   "cell_type": "markdown",
   "id": "1dd36cbb-b0ff-4c38-89a1-3aaead0594a2",
   "metadata": {},
   "source": [
    "**Answers**\n",
    "\n",
    "(a) $f\\circ g: x \\mapsto 1 - x^2$\n",
    "\n",
    "(b) $g\\circ f: x \\mapsto x^2 - 2x + 1$\n",
    "\n",
    "(c) $g\\circ f\\circ g\\circ f: x \\mapsto 4x^2 - 4x^3 + x^4$"
   ]
  },
  {
   "cell_type": "markdown",
   "id": "ccc84970-1ec5-4442-8cd7-96be417ecddb",
   "metadata": {},
   "source": [
    "As we have seen, the ordering of functions can have drastic effects on the output. It is possible to create complex, expressive functions using by chaining small ones. These can be used to create models that represent greater complexity than the sum of their parts without having to explicitly implement every step.\n",
    "\n",
    "> This will be important later in the module when we look at _learning_. Anyone interested in neural networks, in particular, should have a strong grasp on function composition."
   ]
  },
  {
   "cell_type": "markdown",
   "id": "b4d060b9-46c0-452c-ae34-91011633c049",
   "metadata": {},
   "source": [
    "### Multiple Inputs and Parameters"
   ]
  },
  {
   "cell_type": "markdown",
   "id": "970bfeb6-3690-4f14-a3f7-d571f2a65eb4",
   "metadata": {},
   "source": [
    "Sometimes we will implement functions with multiple inputs. These might be where we have two input variables, e.g. $X_0$ and $X_1$, or where we have some additional parameters we want to include to make our function more configurable.\n",
    "\n",
    "Consider the following two cases:\n",
    "\n",
    "$y = X_0 + X_1$\n",
    "\n",
    "$y = aX + b$\n",
    "\n",
    "We can define these respective functions as $f_1: x_1,x_2 \\mapsto x_1+x_2$ and $f_2:x;a,b \\mapsto ax+b$. Both of these functions take multiple inputs, but the way we (typically) interpret them is that $f_1$ takes as input a single input $X$ with two dimensions, e.g. a list with length 2.\n",
    "\n",
    "```python\n",
    "def f1(x):\n",
    "    y = x[0] + x[1]\n",
    "    return y\n",
    "```\n",
    "\n",
    "This is similar to other functions we've seen, where we treat $X$ as a single variable.\n",
    "\n",
    "For $f_2$, we have a single $x$ and two additional inputs $a$ and $b$. In our function, these interact with $x$ to change the output. If $a=3$ and $b=2$, $f_2 : x\\mapsto 3x+2$. However it is often the case that we want to be able to adjust these parameters to tweak our model. This is why we have given them the names $a$ and $b$.\n",
    "\n",
    "A Python implementation of such a function might look like this:\n",
    "```python\n",
    "def f2(x, a, b):\n",
    "    y = a*x+b\n",
    "    return y\n",
    "```\n",
    "\n",
    "Now we have three variables, we can tweak these as we need. This gives us flexibility to define our model.\n",
    "\n",
    "You might have noticed, if you remember from high school maths, that this is the function that describes a straight line. We can see the effects of changing $a$ and $b$ using the following code:"
   ]
  },
  {
   "cell_type": "code",
   "execution_count": 10,
   "id": "f3cfe0dd-248c-493b-912d-56d36374efb8",
   "metadata": {},
   "outputs": [
    {
     "data": {
      "image/png": "[encoded data removed]",
      "text/plain": [
       "<Figure size 640x480 with 1 Axes>"
      ]
     },
     "metadata": {},
     "output_type": "display_data"
    }
   ],
   "source": [
    "def f2(x, a, b):\n",
    "    y = a*x+b\n",
    "    return y\n",
    "\n",
    "X = [-5,-4,-3,-2,-1,0,1,2,3,4,5];\n",
    "\n",
    "# plot f(x, a=3, b=2)\n",
    "f = lambda x: f2(x, a=3, b=2)\n",
    "plt.plot(X, apply(f, X), '.', label=\"a=3,b=2\")\n",
    "\n",
    "# plot f(x, a=-2, b=0)\n",
    "f = lambda x: f2(x, a=-2, b=0)\n",
    "plt.plot(X, apply(f, X), 'x', label=\"a=-2,b=0\")\n",
    "\n",
    "# annotate the plot\n",
    "plt.xlabel('X'), plt.ylabel('y'), plt.legend();"
   ]
  },
  {
   "cell_type": "markdown",
   "id": "26bd0e32-a6a5-411a-bff6-6ad56587f156",
   "metadata": {},
   "source": [
    "## 2 Representations of Logic"
   ]
  },
  {
   "cell_type": "markdown",
   "id": "68f47276-9bd4-413e-bb40-bca57ae8b6a2",
   "metadata": {},
   "source": [
    "Logic is a core concept in in most areas of computing. The same is true for artificial intelligence.\n",
    "\n",
    "Propositional logic deals with \"propositions\", sentences that are either true or false. Propositions form the knowledge by which a system can make decisions. Propositional logic is the set of formal rules for combining these to derive new propositions.\n",
    "\n",
    "Without a grasp of proposition, designing artificial intelligence that can reason is going to be a challenge."
   ]
  },
  {
   "cell_type": "markdown",
   "id": "5512ba7a-b923-400e-87d9-21a29e82669d",
   "metadata": {},
   "source": [
    "### Propositions"
   ]
  },
  {
   "cell_type": "markdown",
   "id": "8fe04cef-136f-4031-8c72-b60b4b8d1fe5",
   "metadata": {},
   "source": [
    "Consider the following statement:\n",
    "> \"It is raining.\"\n",
    "\n",
    "This statement is either true or false. It can either be raining or not be raining. This is a proposition, that describes the state of a given system. We can represent this with some symbol $P$. "
   ]
  },
  {
   "cell_type": "code",
   "execution_count": 11,
   "id": "019b6720-bcff-411f-b27a-fbdbd5d5c7e6",
   "metadata": {},
   "outputs": [
    {
     "data": {
      "text/plain": [
       "True"
      ]
     },
     "execution_count": 11,
     "metadata": {},
     "output_type": "execute_result"
    }
   ],
   "source": [
    "P = True  # It is raining.\n",
    "\n",
    "P"
   ]
  },
  {
   "cell_type": "markdown",
   "id": "f34d1d53-c39f-424a-8f69-7555cb90b6b1",
   "metadata": {},
   "source": [
    "### Logical connectives"
   ]
  },
  {
   "cell_type": "markdown",
   "id": "1f4a9c0d-1c3a-40ff-a459-3999994783b7",
   "metadata": {},
   "source": [
    "#### Negation"
   ]
  },
  {
   "cell_type": "markdown",
   "id": "a47fb5f8-d8ed-4a66-afe2-2626612bb625",
   "metadata": {},
   "source": [
    "Consider though that it is **not** raining. How do we represent that?\n",
    "\n",
    "We can define the connective \"not\" that _negates_ a given proposition. This is typically denoted with a $\\lnot$, e.g. $\\lnot P$.\n",
    "\n",
    "In Python, we can use the `not` keyword:"
   ]
  },
  {
   "cell_type": "code",
   "execution_count": 12,
   "id": "19bfa6eb-6f6e-415d-a176-a6ab61f2148f",
   "metadata": {},
   "outputs": [
    {
     "data": {
      "text/plain": [
       "False"
      ]
     },
     "execution_count": 12,
     "metadata": {},
     "output_type": "execute_result"
    }
   ],
   "source": [
    "not P  # It is not raining"
   ]
  },
  {
   "cell_type": "markdown",
   "id": "aae31938-1030-4be1-b6e5-614154979796",
   "metadata": {},
   "source": [
    "We can represent the behaviour of \"not\" with a truth table.\n",
    "\n",
    "> _Truth tables are methods for showing truth values of compound propositions using the truth falue of its components. It is typically created with rows representing possible truth values and columns representing the proposition_\n",
    "\n",
    "| $P$   | $\\lnot P$  |\n",
    "|-------|------------|\n",
    "| True  | False      |\n",
    "| False | True       |\n",
    "\n",
    "We can generate this truth table in Python by looping through options for $P$:"
   ]
  },
  {
   "cell_type": "code",
   "execution_count": 13,
   "id": "b10213d3-362b-4fe4-814a-afed821f144e",
   "metadata": {},
   "outputs": [
    {
     "name": "stdout",
     "output_type": "stream",
     "text": [
      "True False\n",
      "False True\n"
     ]
    }
   ],
   "source": [
    "for p in [True, False]:\n",
    "    print(p, not p)"
   ]
  },
  {
   "cell_type": "markdown",
   "id": "fa2580c3-dbce-42d6-a415-e07b2f03d473",
   "metadata": {},
   "source": [
    "#### Conjunction (\"and\", $\\land$)"
   ]
  },
  {
   "cell_type": "markdown",
   "id": "ff84100a-d74d-4a61-a3d7-56da5fd08d56",
   "metadata": {},
   "source": [
    "The conjunction of two propositions, $P, Q$, is the logical sentence representing \"$P$ and $Q$\". \n",
    "\n",
    "Conjunction is represented notationally as $\\land$. The conjunction is true only if both propositions are true, i.e. $P\\land Q$ is true only if $P$ is true and $Q$ is true. It is false otherwise.\n",
    "\n",
    "We can write a truth table for this:\n",
    "\n",
    "| $P$   | $Q$   | $P \\land Q$ |\n",
    "|-------|-------|-------------|\n",
    "| True  | True  | True        |\n",
    "| True  | False | False       |\n",
    "| False | True  | False       |\n",
    "| False | False | False       |\n",
    "\n",
    "Or in Python, loop through all possible combinations of $P$ and $Q$ to print it.\n",
    "\n",
    "Representing conjunction in Python is simply the `and` keyword:"
   ]
  },
  {
   "cell_type": "code",
   "execution_count": 14,
   "id": "91ff4c90-9567-42a8-a788-41639d88c2db",
   "metadata": {},
   "outputs": [
    {
     "name": "stdout",
     "output_type": "stream",
     "text": [
      "True True True\n",
      "True False False\n",
      "False True False\n",
      "False False False\n"
     ]
    }
   ],
   "source": [
    "for p in [True, False]:\n",
    "    for q in [True, False]:\n",
    "        print(p, q, p and q)"
   ]
  },
  {
   "cell_type": "markdown",
   "id": "08871328-d685-4b15-95a9-d97941aa5aa0",
   "metadata": {},
   "source": [
    "> _We use the `and` keyword for logical operations, however you can also use `&`, similar to other languages. `&` represents bitwise AND, which operates directly on the bits. Since `True` is bit 1 and `False` is bit 0, `and` and `&` are equivalent operations. We will use `and`, and other keywords, for readability_"
   ]
  },
  {
   "cell_type": "markdown",
   "id": "ab534dff-696d-495d-a7de-031f4afc73a5",
   "metadata": {},
   "source": [
    "#### Disjunction (\"or\", $\\lor$)"
   ]
  },
  {
   "cell_type": "markdown",
   "id": "9ea55632-d087-4df2-9608-b1a43c1e37ca",
   "metadata": {},
   "source": [
    "Disjunction describes the logical operation representing \"or\". It is represented with $\\lor$. For propositions $P,Q$, the proposition $P\\lor Q$ is true if either $P$ or $Q$ are true.\n",
    "\n",
    "The truth table for disjunction is\n",
    "\n",
    "| $P$   | $Q$   | $P \\lor Q$ |\n",
    "|-------|-------|-------------|\n",
    "| True  | True  | True        |\n",
    "| True  | False | True        |\n",
    "| False | True  | True        |\n",
    "| False | False | False       |\n",
    "\n",
    "In Python, we can use the `or` keyword to represent disjunction:"
   ]
  },
  {
   "cell_type": "code",
   "execution_count": 15,
   "id": "34085dd6-4908-4a61-bd9b-5fe34a46efed",
   "metadata": {},
   "outputs": [
    {
     "name": "stdout",
     "output_type": "stream",
     "text": [
      "True True True\n",
      "True False True\n",
      "False True True\n",
      "False False False\n"
     ]
    }
   ],
   "source": [
    "for p in [True, False]:\n",
    "    for q in [True, False]:\n",
    "        print(p, q, p or q)"
   ]
  },
  {
   "cell_type": "markdown",
   "id": "86aa3bb8-0a41-48b4-8a83-eba42c474e72",
   "metadata": {},
   "source": [
    "#### Exercise 2a: \n",
    "\n",
    "Exclusive disjunction, also known as \"xor\", describes the operation on two $P,Q$ such that exclusive disjunction (sometimes denoted $\\oplus$), is true only if exactly one of $P$ and $Q$ is true.\n",
    "\n",
    "| $P$   | $Q$   | $P \\oplus Q$ |\n",
    "|-------|-------|--------------|\n",
    "| True  | True  | False        |\n",
    "| True  | False | True         |\n",
    "| False | True  | True         |\n",
    "| False | False | False        |\n",
    "\n",
    "Implement the logical check for exclusive disjunction in Python and generate the truth table by looping through all combinations of $P$ and $Q$."
   ]
  },
  {
   "cell_type": "code",
   "execution_count": 16,
   "id": "016b447e-1dfc-4ad4-ba42-aef336a61bb2",
   "metadata": {},
   "outputs": [
    {
     "name": "stdout",
     "output_type": "stream",
     "text": [
      "True True False\n",
      "True False True\n",
      "False True True\n",
      "False False False\n"
     ]
    }
   ],
   "source": [
    "for p in [True, False]:\n",
    "    for q in [True, False]:\n",
    "        print(p, q, p is not q)  # (p or q) and not (p and q)"
   ]
  },
  {
   "cell_type": "markdown",
   "id": "ceeb1c29-0abc-4948-a2f1-c6a9a395ba86",
   "metadata": {},
   "source": [
    "#### Implication (\"if ... then\", $\\to$)\n",
    "\n",
    "Implication describes the condition of a proposition when predicated on another. For two propositions, $P, Q$, the implication $P\\to Q$ means that if $P$ (is true) then $Q$ (is true). It is not the case, however, that if $P$ is false then $Q$ is false.\n",
    "\n",
    "One way to understand this is to consider the following statements:\n",
    "> \"It is raining.\"\n",
    "\n",
    "> \"I stay inside.\"\n",
    "\n",
    "A valid implication might be that if _it is raining_ then _I stay inside_. However there may be other reasons that I could stay inside, so it is not necessarily true that if _it is **not** raining_ then _I do **not** stay inside_.\n",
    "\n",
    "We can write the truth table for implication. We consider both $P\\to Q$ and $Q\\to P$:\n",
    "\n",
    "| $P$   | $Q$   | $P \\to Q$ | $Q \\to P$ |\n",
    "|-------|-------|-----------|-----------|\n",
    "| True  | True  | True      | True      |\n",
    "| True  | False | False     | True      |\n",
    "| False | True  | True      | False     |\n",
    "| False | False | True      | True      |\n",
    "\n",
    "We can generate these in Python using the `if`/`else` and `is` keywords. For $P\\to Q$ we consider that $Q$ must true if $P$ is true, else (if $P$ is false), $Q$ can be true _or_ false:"
   ]
  },
  {
   "cell_type": "markdown",
   "id": "2f5880d4-bdde-42ff-af0d-f80e059e36b2",
   "metadata": {},
   "source": [
    "$ P \\to Q$"
   ]
  },
  {
   "cell_type": "code",
   "execution_count": 17,
   "id": "83b4cc3f-e16a-4df2-9eac-722e2295b6d3",
   "metadata": {},
   "outputs": [
    {
     "name": "stdout",
     "output_type": "stream",
     "text": [
      "True True True\n",
      "True False False\n",
      "False True True\n",
      "False False True\n"
     ]
    }
   ],
   "source": [
    "for p in [True, False]:\n",
    "    for q in [True, False]:\n",
    "        print(p, q, q is (True if p is True else q))  # q is (p if p else q)"
   ]
  },
  {
   "cell_type": "markdown",
   "id": "f1525b42-1e83-4565-9948-4cb7495c51c3",
   "metadata": {},
   "source": [
    "$Q \\to P$"
   ]
  },
  {
   "cell_type": "code",
   "execution_count": 18,
   "id": "ed3da35b-c559-49df-8ddf-902eb61c3e53",
   "metadata": {},
   "outputs": [
    {
     "name": "stdout",
     "output_type": "stream",
     "text": [
      "True True True\n",
      "True False True\n",
      "False True False\n",
      "False False True\n"
     ]
    }
   ],
   "source": [
    "for p in [True, False]:\n",
    "    for q in [True, False]:\n",
    "        print(p, q, p is (True if q is True else p))  # p is (q if q else p)"
   ]
  },
  {
   "cell_type": "markdown",
   "id": "7b627616-638b-4c56-b437-7d56b47f3d91",
   "metadata": {},
   "source": [
    "> _Sometimes, implication can be written in the opposite direction, e.g. $Q \\gets P$. This is equivalent, logically, to $P \\to Q$, but is \"said\" slightly differently._\n",
    ">\n",
    "> _Whereas $P\\to Q$ represents \"if $P$ then $Q$\", $Q\\gets P$ is said \"$Q$ if $P$\". Functionally the same, but it's important to be aware of the distinction._"
   ]
  },
  {
   "cell_type": "markdown",
   "id": "5398f687-5a94-47db-bd00-35949b20e91d",
   "metadata": {},
   "source": [
    "#### Exercise 2b\n",
    "\n",
    "Another common logical operator is biconditionality, $P \\leftrightarrow Q$. This is equivalent to both $P\\to Q$ and $Q\\to P$ (or $P\\gets Q$) being true. It is sometimes expressed as $P$ if and only if $Q$. By definition, $P\\leftrightarrow Q$ is equivalent to $Q\\leftrightarrow P$.\n",
    "\n",
    "Essentially, $P\\leftrightarrow Q$ means that if $P$ is true, $Q$ must be true and that if $Q$ is true, $P$ must be true. This also means that if either $P$ or $Q$ is false, the other must be false too.\n",
    "\n",
    "Use Python to generate the truth table for $P\\leftrightarrow Q$ by looping through all possible combinations of $P$ and $Q$."
   ]
  },
  {
   "cell_type": "code",
   "execution_count": 19,
   "id": "e9acecd0-0187-4136-ae34-c18a7aaa15d9",
   "metadata": {},
   "outputs": [
    {
     "name": "stdout",
     "output_type": "stream",
     "text": [
      "True True True\n",
      "True False False\n",
      "False True False\n",
      "False False True\n"
     ]
    }
   ],
   "source": [
    "for p in [True, False]:\n",
    "    for q in [True, False]:\n",
    "        print(p, q, p is q)"
   ]
  },
  {
   "cell_type": "markdown",
   "id": "61263e98-99a0-4a1a-97ab-771f5175a75a",
   "metadata": {},
   "source": [
    "#### Exercise 2c\n",
    "\n",
    "Generate some truth tables for the following expressions, by looping through all possible combinations of the propositions."
   ]
  },
  {
   "cell_type": "markdown",
   "id": "369cbbc3-ccb5-4640-be34-708523d1856b",
   "metadata": {},
   "source": [
    "(a) $(P \\land Q) \\lor (R \\land \\lnot P)$"
   ]
  },
  {
   "cell_type": "code",
   "execution_count": 20,
   "id": "38638fb1-00b1-4253-8ae3-0f8a0f32991b",
   "metadata": {},
   "outputs": [
    {
     "name": "stdout",
     "output_type": "stream",
     "text": [
      "True True True True\n",
      "True True False True\n",
      "True False True False\n",
      "True False False False\n",
      "False True True True\n",
      "False True False False\n",
      "False False True True\n",
      "False False False False\n"
     ]
    }
   ],
   "source": [
    "for p in [True, False]:\n",
    "    for q in [True, False]:\n",
    "        for r in [True, False]:\n",
    "            print(p, q, r, (p and q) or (r and not p))"
   ]
  },
  {
   "cell_type": "markdown",
   "id": "283b7aab-4a57-477d-aa6f-91e8d70bcd55",
   "metadata": {},
   "source": [
    "(b) $P \\lor Q \\to \\lnot R$"
   ]
  },
  {
   "cell_type": "code",
   "execution_count": 21,
   "id": "eb1d37b2-d13e-438f-b7a1-c1973737cee0",
   "metadata": {},
   "outputs": [
    {
     "name": "stdout",
     "output_type": "stream",
     "text": [
      "True True True False\n",
      "True True False True\n",
      "True False True False\n",
      "True False False True\n",
      "False True True False\n",
      "False True False True\n",
      "False False True True\n",
      "False False False True\n"
     ]
    }
   ],
   "source": [
    "for p in [True, False]:\n",
    "    for q in [True, False]:\n",
    "        for r in [True, False]:\n",
    "            print(p, q, r, (not r) is (True if (p or q) else (not r)))"
   ]
  },
  {
   "cell_type": "markdown",
   "id": "13403481-f1a2-4885-b394-ae474f49b2fd",
   "metadata": {},
   "source": [
    "(c) $P \\land (Q \\lor \\lnot R) \\to P$"
   ]
  },
  {
   "cell_type": "code",
   "execution_count": 22,
   "id": "57ab58d7-3b83-4206-9d0d-7e9db27b9a47",
   "metadata": {},
   "outputs": [
    {
     "name": "stdout",
     "output_type": "stream",
     "text": [
      "True True True True\n",
      "True True False True\n",
      "True False True True\n",
      "True False False True\n",
      "False True True True\n",
      "False True False True\n",
      "False False True True\n",
      "False False False True\n"
     ]
    }
   ],
   "source": [
    "for p in [True, False]:\n",
    "    for q in [True, False]:\n",
    "        for r in [True, False]:\n",
    "            print(p, q, r, p is (True if p and (q or not r) else p))  # always true"
   ]
  },
  {
   "cell_type": "markdown",
   "id": "9fbe28ab-4df7-4c6c-9926-f0dab314575a",
   "metadata": {},
   "source": [
    "## 3 Data Structures"
   ]
  },
  {
   "cell_type": "markdown",
   "id": "15191f21-7497-4423-901c-73b2ac2c9c27",
   "metadata": {},
   "source": [
    "Data structures describe the organisation and management of data for access by a computer. The choice of data structure and its properties can be important for the efficiency of access and computation, as well as provide some strong assertions on the information available.\n",
    "\n",
    "This section will provide a brief overview of some mathematical properties of some basic data structures. We will look at their use in programming in this week's computer class."
   ]
  },
  {
   "cell_type": "markdown",
   "id": "2513a745-e84e-4ee3-8664-ab4f94fcab3c",
   "metadata": {},
   "source": [
    "### Sets"
   ]
  },
  {
   "cell_type": "markdown",
   "id": "2cb2010a-df11-424a-a170-18c109cf0889",
   "metadata": {},
   "source": [
    "Sets are a fundamental structure across mathematics. Both conceptually, and practically, sets are an important way of understanding data. They can also be used as programmatic data structures, similar to arrays or lists, but with different properties in terms of ordering, uniqueness and mutability.\n",
    "\n",
    "The simplest way to understand a set is as a _collection_ of _unique_ objects. A set is, by nature, unordered, though it is often written with some order, especially if it contains numeric values.\n",
    "\n",
    "Notationally, sets are typically written with curly braces: $\\{\\ldots\\}$. Objects within a set are called _elements_.\n",
    "\n",
    "In Python, this is also how you create a set."
   ]
  },
  {
   "cell_type": "code",
   "execution_count": 23,
   "id": "25de9f79-2260-4e25-b932-e4fb534fc679",
   "metadata": {},
   "outputs": [
    {
     "data": {
      "text/plain": [
       "set"
      ]
     },
     "execution_count": 23,
     "metadata": {},
     "output_type": "execute_result"
    }
   ],
   "source": [
    "rainbow = {\"red\", \"orange\", \"yellow\", \"green\", \"blue\", \"indigo\", \"violet\"}\n",
    "type(rainbow)"
   ]
  },
  {
   "cell_type": "markdown",
   "id": "d1e8f362-910c-4f8d-9dc4-863c1ca4f2e0",
   "metadata": {},
   "source": [
    "Mathematically, sets may be infinite in length. Examples of these include the number sets, such as the set of natural numbers, $\\mathbb{N} = \\{1,2,3,\\ldots\\}$. However, when programming, we work with finite sets."
   ]
  },
  {
   "cell_type": "markdown",
   "id": "6d8b6887-2018-4da4-8d12-4640fdcad815",
   "metadata": {},
   "source": [
    "#### Elements\n",
    "\n",
    "If an element is in a set, it can be written as $a \\in A$. This indicates that the set $A$ contains \n",
    "variable $a$ as an element.\n",
    "\n",
    "In Python, this is a proposition that can be checked using the `in` keyword:"
   ]
  },
  {
   "cell_type": "code",
   "execution_count": 24,
   "id": "5294d51f-221d-4d60-9999-25bb68059306",
   "metadata": {},
   "outputs": [
    {
     "data": {
      "text/plain": [
       "True"
      ]
     },
     "execution_count": 24,
     "metadata": {},
     "output_type": "execute_result"
    }
   ],
   "source": [
    "\"blue\" in rainbow"
   ]
  },
  {
   "cell_type": "code",
   "execution_count": 25,
   "id": "52e29f6c-b9bd-43fb-84cf-d37287afb7c7",
   "metadata": {},
   "outputs": [
    {
     "data": {
      "text/plain": [
       "False"
      ]
     },
     "execution_count": 25,
     "metadata": {},
     "output_type": "execute_result"
    }
   ],
   "source": [
    "\"purple\" in rainbow"
   ]
  },
  {
   "cell_type": "markdown",
   "id": "cdf9ffd1-cc5a-4628-af7e-1f48bca7a227",
   "metadata": {},
   "source": [
    "Alternatively, if an element is **not** in a set, it is denoted with the $\\notin$ symbol.\n",
    "\n",
    "In Python, this is `not in`..."
   ]
  },
  {
   "cell_type": "code",
   "execution_count": 26,
   "id": "506566a5-24bc-4e56-a99e-f7ad1ea6ffbd",
   "metadata": {},
   "outputs": [
    {
     "data": {
      "text/plain": [
       "True"
      ]
     },
     "execution_count": 26,
     "metadata": {},
     "output_type": "execute_result"
    }
   ],
   "source": [
    "\"purple\" not in rainbow"
   ]
  },
  {
   "cell_type": "markdown",
   "id": "eb679c18-07b5-49d1-9fc8-905357eb8f96",
   "metadata": {},
   "source": [
    "If you are experienced with Python, the `in` keyword will be familiar to you, especially with loops. It can be used to iterate through sets, and other (iterable) data structures such as lists."
   ]
  },
  {
   "cell_type": "code",
   "execution_count": 27,
   "id": "a1bee731-5702-4ab8-8f84-23e1ccb22ef8",
   "metadata": {},
   "outputs": [
    {
     "name": "stdout",
     "output_type": "stream",
     "text": [
      "yellow\n",
      "violet\n",
      "indigo\n",
      "orange\n",
      "red\n",
      "green\n",
      "blue\n"
     ]
    }
   ],
   "source": [
    "for element in rainbow:\n",
    "    print(element)"
   ]
  },
  {
   "cell_type": "markdown",
   "id": "da577a6b-e54c-4df0-b896-cf310fe08611",
   "metadata": {},
   "source": [
    "#### Set-builder notation"
   ]
  },
  {
   "cell_type": "markdown",
   "id": "d04e6ffd-bb88-4b32-b973-925e9b4071ec",
   "metadata": {},
   "source": [
    "We have seen above that you can define and create a set by explicitly staying its elements. However, sometimes this is not ideal to write. The set-builder notation allows sets to be written in terms of other sets. \n",
    "\n",
    "Consider this set:"
   ]
  },
  {
   "cell_type": "markdown",
   "id": "6074b35f-d1f7-4fb6-9561-4d2f5c1fb221",
   "metadata": {},
   "source": [
    "$\\{n \\in \\{0,\\ldots,9\\}\\text{ | }n \\text{ is even}\\}$"
   ]
  },
  {
   "cell_type": "markdown",
   "id": "6036242f-90a5-4f57-a253-e5704d5891da",
   "metadata": {},
   "source": [
    "We can interpret this as the set that contains elements, $n$ in the set of numbers from $0$ to $9$, where $n$ is even.\n",
    "\n",
    "In Python, we can use set comprehension to achieve the same thing:"
   ]
  },
  {
   "cell_type": "code",
   "execution_count": 28,
   "id": "79112276-d390-455a-845b-e5413261b440",
   "metadata": {},
   "outputs": [
    {
     "data": {
      "text/plain": [
       "{0, 1, 2, 3, 4, 5, 6, 7, 8, 9}"
      ]
     },
     "execution_count": 28,
     "metadata": {},
     "output_type": "execute_result"
    }
   ],
   "source": [
    "nums = set(range(10))\n",
    "nums"
   ]
  },
  {
   "cell_type": "code",
   "execution_count": 29,
   "id": "65bf2cd1-c2f1-49f3-b49e-6d755bc9af9e",
   "metadata": {},
   "outputs": [
    {
     "data": {
      "text/plain": [
       "{0, 2, 4, 6, 8}"
      ]
     },
     "execution_count": 29,
     "metadata": {},
     "output_type": "execute_result"
    }
   ],
   "source": [
    "{n for n in nums if n%2 == 0}"
   ]
  },
  {
   "cell_type": "markdown",
   "id": "e29eced5-3ad2-47d2-a599-b46d7d43e917",
   "metadata": {},
   "source": [
    "_In practice, we wouldn't have converted the `range` to a `set` because we can iterate through it._\n",
    "\n",
    "You may have some experience with list comprehensions, which take set-builder notation and apply it to Python list creation."
   ]
  },
  {
   "cell_type": "markdown",
   "id": "b1568266-88a9-44ff-aeab-625373cc9f0b",
   "metadata": {},
   "source": [
    "#### Exercise 3a\n",
    "\n",
    "Write a Python expression to create the following set:\n",
    "\n",
    "$\n",
    "\\{ -x \\,|\\, x \\in \\mathbb{N} \\text{ and } x \\text{ is odd and } x^2 < 10\\}\n",
    "$"
   ]
  },
  {
   "cell_type": "code",
   "execution_count": 30,
   "id": "5c28c0e4-a1c5-48fe-b0a2-2dbcf52a1d3d",
   "metadata": {},
   "outputs": [
    {
     "data": {
      "text/plain": [
       "{-3, -1}"
      ]
     },
     "execution_count": 30,
     "metadata": {},
     "output_type": "execute_result"
    }
   ],
   "source": [
    "# x^2 < 10 is true for only x < 4\n",
    "\n",
    "{-x for x in range(1, 4) if x%2 > 0}"
   ]
  },
  {
   "cell_type": "markdown",
   "id": "0671ad71-f190-457a-abc0-5fa5f51b90d4",
   "metadata": {},
   "source": [
    "#### Set Relations"
   ]
  },
  {
   "cell_type": "markdown",
   "id": "4a1db5db-27fb-41db-967f-efb0ba77c5a5",
   "metadata": {},
   "source": [
    "There are many properties of sets, and definitions for how they relate together."
   ]
  },
  {
   "cell_type": "markdown",
   "id": "e3f6bde3-190e-4e33-9698-13fc10ab1d90",
   "metadata": {},
   "source": [
    "##### Cardinality"
   ]
  },
  {
   "cell_type": "markdown",
   "id": "6d7792d4-07be-4ad6-9b14-f0fc706383d7",
   "metadata": {},
   "source": [
    "The cardinality of a set simply refers to the number of elements in it.\n",
    "\n",
    "Cardinality of a set, $A$, is typically denoted $|A|$.\n",
    "\n",
    "For finite sets, like in Python, this is straightforward. We can use the `len()` method for Python sets."
   ]
  },
  {
   "cell_type": "code",
   "execution_count": 31,
   "id": "7e119dd5-9b9d-4322-8965-c98946df6895",
   "metadata": {},
   "outputs": [
    {
     "data": {
      "text/plain": [
       "7"
      ]
     },
     "execution_count": 31,
     "metadata": {},
     "output_type": "execute_result"
    }
   ],
   "source": [
    "len(rainbow)"
   ]
  },
  {
   "cell_type": "markdown",
   "id": "643f8090-51da-4282-bae9-577889ed22de",
   "metadata": {},
   "source": [
    "##### Subset\n"
   ]
  },
  {
   "cell_type": "markdown",
   "id": "62c39532-d049-4947-ac33-3d0ef53e5294",
   "metadata": {},
   "source": [
    "A set, $A$, is considered to be a _subset_ of another, $B$, if every element of $A$ is in $B$.\n",
    "\n",
    "Notationally, we can write this as the proposition $A\\subseteq B$. We define this as $a \\in B, \\forall a \\in A$.\n",
    "\n",
    "The $\\forall$ symbol means \"for all\", and denotes iterating through every element in a set.\n",
    "\n",
    "For example, $a \\in B, \\forall a \\in A$ reads \"$a$ in $B$ for all elements $a$ in $A$. This proposition is true if every element of $A$ is also an element in $B$.\n",
    "\n",
    "In Python, we can implement this:"
   ]
  },
  {
   "cell_type": "code",
   "execution_count": 32,
   "id": "808ab5fb-475c-481b-9135-a7187a683ab3",
   "metadata": {},
   "outputs": [
    {
     "data": {
      "text/plain": [
       "True"
      ]
     },
     "execution_count": 32,
     "metadata": {},
     "output_type": "execute_result"
    }
   ],
   "source": [
    "A = {0, 1}\n",
    "B = {0, 1, 2}\n",
    "\n",
    "all(a in B for a in A)"
   ]
  },
  {
   "cell_type": "markdown",
   "id": "01d9c885-55ca-4fe1-a3f9-5ef87ea249d4",
   "metadata": {},
   "source": [
    "Alternatively, the `<=` operator can be used to represent $\\subseteq$"
   ]
  },
  {
   "cell_type": "code",
   "execution_count": 33,
   "id": "6fb8df5d-4052-4c7f-8500-5db5b4ac59c9",
   "metadata": {},
   "outputs": [
    {
     "data": {
      "text/plain": [
       "True"
      ]
     },
     "execution_count": 33,
     "metadata": {},
     "output_type": "execute_result"
    }
   ],
   "source": [
    "A <= B"
   ]
  },
  {
   "cell_type": "markdown",
   "id": "b32dfc4f-83f6-43f8-8d0f-23992e1fd753",
   "metadata": {},
   "source": [
    "Sometimes, you may see subsets written as $A\\subset B$. This denotes a \"proper\" subset, which means that there exist some elements of $B$ that are not in $A$.\n",
    "\n",
    "You can think of the difference between $\\subset$ and $\\subseteq$ as analagous of the difference between $\\lt$ and $\\leq$. If $A = B$, $A \\subset B$ is false but $A \\subseteq B$ is true."
   ]
  },
  {
   "cell_type": "markdown",
   "id": "8913baa6-d8d6-47d9-9662-ab09be9a039c",
   "metadata": {},
   "source": [
    "##### Equality\n"
   ]
  },
  {
   "cell_type": "markdown",
   "id": "15383819-451b-40e0-a966-74c4101a364d",
   "metadata": {},
   "source": [
    "Two sets are considered equal when all elements of each set are in the other.\n",
    "\n",
    "In other words, $A$ is equal to $B$ if $a \\in B, \\forall a \\in A$ and $b \\in A, \\forall b \\in B$.\n",
    "\n",
    "In propositional logic, this can also be written\n",
    "\n",
    "$\n",
    "x \\in A \\leftrightarrow x \\in B\n",
    "$\n",
    "\n",
    "In Python, we can do this check"
   ]
  },
  {
   "cell_type": "code",
   "execution_count": 34,
   "id": "e98dcbcc-0a49-4228-ae56-b8d5d848ac71",
   "metadata": {},
   "outputs": [
    {
     "data": {
      "text/plain": [
       "True"
      ]
     },
     "execution_count": 34,
     "metadata": {},
     "output_type": "execute_result"
    }
   ],
   "source": [
    "A = {0, 1, 2}\n",
    "B = {0, 1, 2}\n",
    "\n",
    "all(a in B for a in A) and all(b in A for b in B)"
   ]
  },
  {
   "cell_type": "markdown",
   "id": "943580d3-57b3-4cd6-9d18-cf50a6e09a81",
   "metadata": {},
   "source": [
    "Alternatively, we can just is the equality operator `==`:"
   ]
  },
  {
   "cell_type": "code",
   "execution_count": 35,
   "id": "89f26674-e1d5-450f-8460-88529388f7b7",
   "metadata": {},
   "outputs": [
    {
     "data": {
      "text/plain": [
       "True"
      ]
     },
     "execution_count": 35,
     "metadata": {},
     "output_type": "execute_result"
    }
   ],
   "source": [
    "A == B"
   ]
  },
  {
   "cell_type": "markdown",
   "id": "91093296-1c21-4b22-b1c7-98b84439fa85",
   "metadata": {},
   "source": [
    "#### Set operations"
   ]
  },
  {
   "cell_type": "markdown",
   "id": "16b3255c-5593-4a0c-9d96-47f0c303d2c1",
   "metadata": {},
   "source": [
    "##### Intersection\n"
   ]
  },
  {
   "cell_type": "markdown",
   "id": "99883ebe-b9c9-419a-aebf-3b0face0528d",
   "metadata": {},
   "source": [
    "The intersection of two sets, $A$ and $B$, is the set containing elements that exist in $A$ _and_ $B$.\n",
    "\n",
    "We denote set intersection with $\\cap$, and define it\n",
    "\n",
    "$A \\cap B = \\{x\\,|\\,x\\in A \\text{ and }x\\in B\\}$.\n",
    "\n",
    "In Python, we can implement that manually:"
   ]
  },
  {
   "cell_type": "code",
   "execution_count": 36,
   "id": "a94991ff-e9ea-4711-85ab-6e154d75db2b",
   "metadata": {},
   "outputs": [
    {
     "data": {
      "text/plain": [
       "{'green', 'red'}"
      ]
     },
     "execution_count": 36,
     "metadata": {},
     "output_type": "execute_result"
    }
   ],
   "source": [
    "rainbow = {\"red\", \"orange\", \"yellow\", \"green\", \"blue\", \"indigo\", \"violet\"}\n",
    "traffic = {\"red\", \"amber\", \"green\"}\n",
    "\n",
    "intersection = set()\n",
    "for x in rainbow:\n",
    "    if x in traffic:\n",
    "        intersection.add(x)\n",
    "for x in traffic:\n",
    "    if x in rainbow:\n",
    "        intersection.add(x)\n",
    "intersection"
   ]
  },
  {
   "cell_type": "markdown",
   "id": "27f9df9d-0480-4478-8027-67c7c7fc8d41",
   "metadata": {},
   "source": [
    "There is a `set` method `intersection`, `set.intersection(A,B)`.\n",
    "\n",
    "Or we can use the `and` keyword"
   ]
  },
  {
   "cell_type": "code",
   "execution_count": 37,
   "id": "034880e1-9677-4b98-af6d-95a1555a9db2",
   "metadata": {},
   "outputs": [
    {
     "data": {
      "text/plain": [
       "{'amber', 'green', 'red'}"
      ]
     },
     "execution_count": 37,
     "metadata": {},
     "output_type": "execute_result"
    }
   ],
   "source": [
    "rainbow and traffic  # set.intersection(rainbow, traffic)"
   ]
  },
  {
   "cell_type": "markdown",
   "id": "56b1c28e-f133-402e-a101-d57dc23ed438",
   "metadata": {},
   "source": [
    "##### Union\n"
   ]
  },
  {
   "cell_type": "markdown",
   "id": "2c5e485e-8594-44d3-9828-83d1d7ff139d",
   "metadata": {},
   "source": [
    "The union is to intersection what \"or\" is to \"and\". The union of two sets $A$ and $B$ describes the set of elements that are elements of $A$ _or_ $B$.\n",
    "\n",
    "Set union is denoted with $\\cap$, and defined\n",
    "\n",
    "$\n",
    "A\\cup B = \\{x\\,|\\,x\\in A \\text{ or }x\\in B\\}\n",
    "$\n",
    "\n",
    "In Python, we could iterate through each set, and create a new set with all elements. However, in Python, we can use the `set.union` method, or the `or` keyword:"
   ]
  },
  {
   "cell_type": "code",
   "execution_count": 38,
   "id": "d0cce7e6-854f-498a-87c2-f7768210abc2",
   "metadata": {},
   "outputs": [
    {
     "data": {
      "text/plain": [
       "{'blue', 'green', 'indigo', 'orange', 'red', 'violet', 'yellow'}"
      ]
     },
     "execution_count": 38,
     "metadata": {},
     "output_type": "execute_result"
    }
   ],
   "source": [
    "rainbow or traffic  # set.union(rainbow, traffic)"
   ]
  },
  {
   "cell_type": "markdown",
   "id": "c75c5292-0976-42c5-9dcc-e2578ff0c325",
   "metadata": {},
   "source": [
    "One thing to note is that the cardinality of a set union is not necessarily the sum of cardinality of each set:\n",
    "\n",
    "$|A\\cup B| \\neq |A| + |B|$\n",
    "\n",
    "This is because a set contains only unique elements, so any elements that exist in both sets are only counted once."
   ]
  },
  {
   "cell_type": "markdown",
   "id": "801d361b-3f55-4385-8803-e93ec4b290bb",
   "metadata": {},
   "source": [
    "#### Exercise 3b\n",
    "\n",
    "What is the relation between cardinality of the union between two sets $A$ and $B$ and the cardinality of the individual sets? Write a Python expression to calculate this."
   ]
  },
  {
   "cell_type": "markdown",
   "id": "3e10673c-558e-41e4-be3b-41e4c449d428",
   "metadata": {},
   "source": [
    "**Answer**\n",
    "\n",
    "The answer is $|A\\cup B| = |A| + |B| - |A\\cap B|$. That is, the number of elements in each set _minus_ the number of duplicates, which appear in the intersection (as we only want to count these elements once)."
   ]
  },
  {
   "cell_type": "code",
   "execution_count": 39,
   "id": "99e226f2-753f-413a-9af5-28a16f72a499",
   "metadata": {},
   "outputs": [
    {
     "name": "stdout",
     "output_type": "stream",
     "text": [
      "3\n",
      "3\n"
     ]
    }
   ],
   "source": [
    "print(len(A) + len(B) - len(A and B))\n",
    "print(len(A or B))"
   ]
  },
  {
   "cell_type": "markdown",
   "id": "870a6878-441e-4ab2-ba9b-3e041acc9b22",
   "metadata": {},
   "source": [
    "##### Empty Set"
   ]
  },
  {
   "cell_type": "markdown",
   "id": "34ab1d1a-0f97-430b-9b3e-e729a458db5d",
   "metadata": {},
   "source": [
    "The empty set describes the set containing no elements. This is a valid set, and can often occur as the result of set operations.\n",
    "\n",
    "The empty set is denoted $\\emptyset$, sometimes defined $\\{\\}$ (for a set containing no elements)."
   ]
  },
  {
   "cell_type": "code",
   "execution_count": 40,
   "id": "60a3a6e6-3294-4989-8ac1-ce3b208c9276",
   "metadata": {},
   "outputs": [
    {
     "data": {
      "text/plain": [
       "0"
      ]
     },
     "execution_count": 40,
     "metadata": {},
     "output_type": "execute_result"
    }
   ],
   "source": [
    "empty = set()\n",
    "\n",
    "len(empty)"
   ]
  },
  {
   "cell_type": "code",
   "execution_count": 41,
   "id": "17c9a625-2690-4906-9d52-2cd2676218aa",
   "metadata": {},
   "outputs": [
    {
     "data": {
      "text/plain": [
       "True"
      ]
     },
     "execution_count": 41,
     "metadata": {},
     "output_type": "execute_result"
    }
   ],
   "source": [
    "set.intersection({0,1,2},{3,4,5}) == empty"
   ]
  },
  {
   "cell_type": "markdown",
   "id": "1dac133e-00d3-4035-baa7-832b50fb2afd",
   "metadata": {},
   "source": [
    "#### Exercise 3c\n",
    "\n",
    "Since $\\emptyset$ is a valid set, it has a valid target for relations and operations.\n",
    "\n",
    "Describe the outcomes of the following operations involving the empty set. Implement it in Python to show you are correct.\n",
    "\n",
    "(a) $\\emptyset \\subseteq A$"
   ]
  },
  {
   "cell_type": "markdown",
   "id": "9b03f362-c33a-4070-9534-cd8531587b56",
   "metadata": {},
   "source": [
    "This will always be **true** for any set, $A$, even if $A = \\emptyset$. It is true that every element of the empty set (of which there are none) is a subset of $A$."
   ]
  },
  {
   "cell_type": "code",
   "execution_count": 42,
   "id": "7d6ebac0-e129-45d2-b682-d2c38e28e478",
   "metadata": {},
   "outputs": [
    {
     "data": {
      "text/plain": [
       "True"
      ]
     },
     "execution_count": 42,
     "metadata": {},
     "output_type": "execute_result"
    }
   ],
   "source": [
    "set() <= A"
   ]
  },
  {
   "cell_type": "code",
   "execution_count": 43,
   "id": "b3f367b6-0c31-4faf-8c86-2fea09030246",
   "metadata": {},
   "outputs": [
    {
     "data": {
      "text/plain": [
       "True"
      ]
     },
     "execution_count": 43,
     "metadata": {},
     "output_type": "execute_result"
    }
   ],
   "source": [
    "set() <= set()"
   ]
  },
  {
   "cell_type": "markdown",
   "id": "92673640-ecb9-4e19-b540-daf6ac967db1",
   "metadata": {},
   "source": [
    "(b) $A \\cup \\emptyset$"
   ]
  },
  {
   "cell_type": "markdown",
   "id": "9f80f725-2dfb-4ef2-be54-82381bf51410",
   "metadata": {},
   "source": [
    "The outcome of this is always the set $A$. The union is the elements that occur in either set, which is the elements of $A$ and the elements of $\\emptyset$. Since there are no elements in $\\emptyset$, the outcome is always $A$:\n",
    "\n",
    "$A \\cup \\emptyset = A$"
   ]
  },
  {
   "cell_type": "code",
   "execution_count": 44,
   "id": "f3cc2bc6-385e-4790-8394-76291d454798",
   "metadata": {},
   "outputs": [
    {
     "data": {
      "text/plain": [
       "{0, 1, 2}"
      ]
     },
     "execution_count": 44,
     "metadata": {},
     "output_type": "execute_result"
    }
   ],
   "source": [
    "A or set()"
   ]
  },
  {
   "cell_type": "markdown",
   "id": "5d80f54f-d988-40ff-aa78-1a922b91f678",
   "metadata": {},
   "source": [
    "(c) $\\emptyset \\cap A$"
   ]
  },
  {
   "cell_type": "markdown",
   "id": "7d0bb89b-bd82-4b3d-b4dc-ec7798c5a2c1",
   "metadata": {},
   "source": [
    "This is always going to be $\\emptyset$. The intersection returns a set containing all the elements in common between two sets. Since a set can have no elements that are also in the empty set, the intersection will be a set with no elements. A set with no elements is the empty set, $\\emptyset$."
   ]
  },
  {
   "cell_type": "code",
   "execution_count": 45,
   "id": "ea7957de-4fd4-47b2-bd33-868d21170060",
   "metadata": {},
   "outputs": [
    {
     "data": {
      "text/plain": [
       "set()"
      ]
     },
     "execution_count": 45,
     "metadata": {},
     "output_type": "execute_result"
    }
   ],
   "source": [
    "set() and A"
   ]
  },
  {
   "cell_type": "markdown",
   "id": "78a803c7-24ad-487c-8c02-02a494aa6f03",
   "metadata": {},
   "source": [
    "(c) $\\emptyset \\subset \\emptyset$"
   ]
  },
  {
   "cell_type": "markdown",
   "id": "b68ba209-9946-45cc-a464-e835f8b0549d",
   "metadata": {},
   "source": [
    "This proposition is **false**. The _proper subset_ $A \\subset B$ requires there to be at least one element in $B$ that is not in $A$ (otherwise $A=B$). Since there are no elements in $\\emptyset$, it cannot have a proper subset."
   ]
  },
  {
   "cell_type": "code",
   "execution_count": 46,
   "id": "a7bea5b0-1c57-4b85-ad2b-00577e8fd8b6",
   "metadata": {},
   "outputs": [
    {
     "data": {
      "text/plain": [
       "False"
      ]
     },
     "execution_count": 46,
     "metadata": {},
     "output_type": "execute_result"
    }
   ],
   "source": [
    "set() < set()"
   ]
  },
  {
   "cell_type": "markdown",
   "id": "6143c90f-cb0a-413f-b128-a80bce9b1e2f",
   "metadata": {},
   "source": [
    "It is however true that $\\emptyset \\subseteq \\emptyset$:"
   ]
  },
  {
   "cell_type": "code",
   "execution_count": 47,
   "id": "69824027-4ffa-4e3f-83b9-a32495a65cbd",
   "metadata": {},
   "outputs": [
    {
     "data": {
      "text/plain": [
       "True"
      ]
     },
     "execution_count": 47,
     "metadata": {},
     "output_type": "execute_result"
    }
   ],
   "source": [
    "set() <= set()"
   ]
  },
  {
   "cell_type": "markdown",
   "id": "6baec5bd-eb20-480f-b5a6-57e91f485217",
   "metadata": {},
   "source": [
    "#### Python `set`s\n",
    "\n",
    "As we have seen, the Python `set` is a powerful data structure that allows to perform set arithmetic simply efficiently.\n",
    "\n",
    "In this week's computer class, we will look at what we can do with `set`s alongside other core Python data structures."
   ]
  },
  {
   "cell_type": "markdown",
   "id": "16e22b98-af62-4c6a-952c-6457c3e0841d",
   "metadata": {},
   "source": [
    "### Graphs"
   ]
  },
  {
   "cell_type": "markdown",
   "id": "befbdf94-05a3-4d6f-aaf4-e034c9a13710",
   "metadata": {},
   "source": [
    "A graph is a data structure that expands on the concepts of sets. A graph, $G$, is defined as two sets: the vertices, $V$ (sometimes called nodes), and the edges, $E$.\n",
    "\n",
    "We write this $G = (V, E)$.\n",
    "\n",
    "A graph is defines the set of vertices, $V$ and the connections between elements of $V$, defined in $E$. $E$ is typically a set of tuples each describing pairs of nodes, and sometimes a weight."
   ]
  },
  {
   "cell_type": "markdown",
   "id": "d12d14fb-f78a-4694-987d-fcbbf7bcd51f",
   "metadata": {},
   "source": [
    "> Technically, the set of edges, $E$ is a set of relations, defined $E \\subseteq V\\times V$. Here, $V\\times V$ refers to the Cartesian product of set $V$ with itself. Understanding Cartesian products is not essential to understanding graphs, but if you are interested you can [read about it here](https://en.wikipedia.org/wiki/Cartesian_product)."
   ]
  },
  {
   "cell_type": "markdown",
   "id": "8b065f68-dd8f-4238-a654-49f1e22b153f",
   "metadata": {},
   "source": [
    "Graphs are fundamental data structures in artificial intelligence, often describing environments for problems in search, optimisation, and games.\n",
    "\n",
    "> **Run the following cell**, which defines a basic graph data structure. You don't need to understand all the code, but feel free to read it and ask questions about it."
   ]
  },
  {
   "cell_type": "code",
   "execution_count": 48,
   "id": "9b938bbe-d169-466c-9057-c11559216324",
   "metadata": {},
   "outputs": [],
   "source": [
    "import math\n",
    "from matplotlib import pyplot as plt\n",
    "\n",
    "class Vertex:\n",
    "    \"\"\"\n",
    "    Defines a graph vertex\n",
    "\n",
    "    Attributes\n",
    "    ----------\n",
    "    value\n",
    "        Stores the value of the vertex\n",
    "    edges : set\n",
    "        Stores list of all edges where the vertex is the start\n",
    "    \"\"\"\n",
    "    def __init__(self,value=None):\n",
    "        \"\"\" Creates a new Vertex with some (optional) value and no edges \"\"\"\n",
    "        self.value = value\n",
    "        self.edges = set()\n",
    "    def __repr__(self):\n",
    "        return f\"{self.value if self.value is not None else ''}\"\n",
    "    def __hash__(self):\n",
    "        return hash(self.value)\n",
    "    def __eq__(self, node):\n",
    "        return (self.value == node.value) if isinstance(node, Vertex) else False\n",
    "    def connect(self, node, weight=None):\n",
    "        \"\"\" Creates a new edge between self and node (with optional weight) and stores it \"\"\"\n",
    "        self.edges.add(Edge(self, node, weight))\n",
    "        \n",
    "class Edge:\n",
    "    \"\"\"\n",
    "    Defines a graph edge\n",
    "    \n",
    "    Attributes\n",
    "    ----------\n",
    "    start : Vertex \n",
    "        Vertex denoting the start point of the edge\n",
    "    end : Vertex\n",
    "        Vertex denoting the end point of the edge\n",
    "    weight\n",
    "        The weight of the edge (default None)\n",
    "    \"\"\"\n",
    "    def __init__(self, start:Vertex, end:Vertex, weight=None):\n",
    "        \"\"\" Creates an (optionally) weighted edge between two Vertex instances, start and end \"\"\"\n",
    "        assert isinstance(start, Vertex) and isinstance(end, Vertex)\n",
    "        self.edge = self.start, self.end = start, end\n",
    "        self.weight = weight\n",
    "    def __repr__(self):\n",
    "        return f\"{self.start}-{str(self.weight) if self.weight is not None else ''}->{self.end}\"\n",
    "\n",
    "class Graph:\n",
    "    \"\"\"\n",
    "    Defines a graph\n",
    "\n",
    "    Attributes\n",
    "    ----------\n",
    "    nodes : set\n",
    "        Set of all nodes in the graph\n",
    "    edges : set\n",
    "        Set of all edges in the graph\n",
    "    isdirected : bool\n",
    "        Indicates whether graph is directed\n",
    "    \"\"\"\n",
    "    def __init__(self, nodes=set(), directed=True):\n",
    "        self._nodes = nodes\n",
    "        self.isdirected = directed\n",
    "    @property\n",
    "    def nodes(self):\n",
    "        return self._nodes\n",
    "    @property\n",
    "    def edges(self):\n",
    "        return set.union(*[node.edges for node in self.nodes])\n",
    "    def __repr__(self):\n",
    "        return f\"V:{self.nodes}\\nE:{self.edges}\"\n",
    "    def plot(self):\n",
    "        \"\"\" (Crude) graph plotting\"\"\"\n",
    "        nx = math.ceil(math.sqrt(len(self.nodes)))\n",
    "        locs = {node:(i//nx+0.2*((i+1)%nx),(i%nx)+0.2*((i+1)//nx)) for i,node in enumerate(self.nodes)}\n",
    "        fig,ax = plt.subplots(figsize=(6,6))\n",
    "        for node, loc in locs.items():\n",
    "            ax.plot(*loc, 'ko', ms=20)\n",
    "            ax.text(loc[0], loc[1]+0.1, str(node))\n",
    "        for edge in self.edges:\n",
    "            a,b = locs[edge.start],locs[edge.end]\n",
    "            if self.isdirected:\n",
    "                ax.arrow(*a,*[.95*(j-i) for i,j in zip(a,b)],\n",
    "                     length_includes_head=True, head_width=0.05, color='k')\n",
    "            else:\n",
    "                ax.plot(*[[i,j] for i,j in zip(a,b)],'k')\n",
    "            if edge.weight is not None:\n",
    "                ax.text(*[i+(j-i)/2 for i,j in zip(a,b)], str(edge.weight))\n",
    "        ax.axis(\"off\")"
   ]
  },
  {
   "cell_type": "markdown",
   "id": "2ede1885-b067-4e10-961b-32f8382d47c5",
   "metadata": {},
   "source": [
    "Consider the following graph describing five cities and possible routes between then.\n",
    "\n",
    "We have a graph, $G = (\\text{cities}, \\text{routes})$, where\n",
    "\n",
    "$\\text{cities} = \\{\\text{Brussels}, \\text{Cardiff}, \\text{Edinburgh}, \\text{London}, \\text{Paris}\\}$\n",
    "\n",
    "and\n",
    "\n",
    "$\\text{routes} = \\{(\\text{Edinburgh},\\text{London}), (\\text{Cardiff},\\text{London}), (\\text{London},\\text{Paris}),(\\text{London},\\text{Brussels}),(\\text{Brussels},\\text{Paris})\\}$.\n",
    "\n",
    "This graph describes the possible routes between cities. In this case, we are assuming that the graph is directed, such that each edge $(a,b)$ describes the path from $a$ _to_ $b$, but not $b$ _to_ $a$.\n",
    "\n",
    "Using the implementation above, we can create the vertices:"
   ]
  },
  {
   "cell_type": "code",
   "execution_count": 49,
   "id": "341e7e3f-85aa-4c17-a59d-3eb374ef6ed0",
   "metadata": {},
   "outputs": [],
   "source": [
    "names = {\"Edinburgh\",\"London\",\"Cardiff\",\"Paris\",\"Brussels\"}\n",
    "\n",
    "cities = {city:Vertex(city) for city in names}"
   ]
  },
  {
   "cell_type": "markdown",
   "id": "8525ff51-13df-4717-956a-a7ae0a816252",
   "metadata": {},
   "source": [
    "And define the edges by using the `Vertex` `connect()` method:"
   ]
  },
  {
   "cell_type": "code",
   "execution_count": 50,
   "id": "4eed72df-9991-4075-800d-7a1e413a4769",
   "metadata": {},
   "outputs": [],
   "source": [
    "cities[\"Edinburgh\"].connect(cities[\"London\"])\n",
    "cities[\"Cardiff\"].connect(cities[\"London\"])\n",
    "cities[\"London\"].connect(cities[\"Brussels\"])\n",
    "cities[\"London\"].connect(cities[\"Paris\"])\n",
    "cities[\"Brussels\"].connect(cities[\"Paris\"])"
   ]
  },
  {
   "cell_type": "markdown",
   "id": "24cb4e47-d271-455f-a255-7ee600ff01ce",
   "metadata": {},
   "source": [
    "We can use the `Graph` class to construct object. Note that the `Graph` class will automatically infer the edges from the nodes in this implementation."
   ]
  },
  {
   "cell_type": "code",
   "execution_count": 51,
   "id": "5e97eb83-bd69-415d-9f5d-5610e18c2c3e",
   "metadata": {},
   "outputs": [
    {
     "data": {
      "text/plain": [
       "V:{Brussels, London, Paris, Cardiff, Edinburgh}\n",
       "E:{Edinburgh-->London, London-->Brussels, Brussels-->Paris, London-->Paris, Cardiff-->London}"
      ]
     },
     "execution_count": 51,
     "metadata": {},
     "output_type": "execute_result"
    }
   ],
   "source": [
    "V = set(cities.values())\n",
    "G = Graph(V)\n",
    "G"
   ]
  },
  {
   "cell_type": "markdown",
   "id": "34e23961-34cd-434d-b4a2-49b52303d25e",
   "metadata": {},
   "source": [
    "We can visualise the graph using the `Graph` `plot()` utility:"
   ]
  },
  {
   "cell_type": "code",
   "execution_count": 52,
   "id": "109fb119-a2a0-413a-b932-be6437527f4a",
   "metadata": {},
   "outputs": [
    {
     "data": {
      "image/png": "[encoded data removed]",
      "text/plain": [
       "<Figure size 600x600 with 1 Axes>"
      ]
     },
     "metadata": {},
     "output_type": "display_data"
    }
   ],
   "source": [
    "G.plot()"
   ]
  },
  {
   "cell_type": "markdown",
   "id": "2563826b-b948-46e5-8a65-9d2787761c42",
   "metadata": {},
   "source": [
    "Here we can start to visualise the pathways in a graph. In artificial intelligence, we are often implementing agents to traverse graphs to find, for example, shortest paths.\n",
    "\n",
    "We can think about how we might implement an AI to find the shortest path from Edinburgh to Paris. There is no edge between the two cities, but we can create two paths that take us there:\n",
    "\n",
    "$(\\text{Edinburgh},\\text{London},\\text{Brussels},\\text{Paris})$\n",
    "\n",
    "and\n",
    "\n",
    "$(\\text{Edinburgh},\\text{London},\\text{Paris})$\n",
    "\n",
    "It is obvious to us which path is shortest, but graphs allow us to codify this information. In these problems, the graphs can be much more complex, with many possible paths, and may have additional weights on the edges that can provide a \"cost\" to traversing an edge."
   ]
  },
  {
   "cell_type": "markdown",
   "id": "bdd4e0dc-bb62-4cf8-bbc7-100baa74ce85",
   "metadata": {},
   "source": [
    "### Trees"
   ]
  },
  {
   "cell_type": "markdown",
   "id": "fd3d2999-18c9-4fe4-8172-2b9e21a82780",
   "metadata": {},
   "source": [
    "Trees are a specific type of graph that exhibits certain properties.\n",
    "\n",
    "A directed graph $G = (V,E)$ is said to be a _tree_ if the set of vertices, $V$, can be represented as the union of subsets:\n",
    "\n",
    "$\\underbrace{\\{r\\}}_{V_0}\\cup V_1\\cup V_2\\cup\\ldots\\cup V_n$,\n",
    "\n",
    "where $r \\notin V_i$ for $i=1\\ldots n$ and $V_i \\cap V_j = \\emptyset$ for $i\\neq j$, and that for every subset $V_i$ there exists exactly one edge $(w,v), \\forall v \\in V_i$, where $w\\in V_{i-1}$.\n",
    "\n",
    "In plain terms, this means that the graph can be described as a set of _layers_, with each layer being a set of nodes disconencted from each others, and an edge that connects a single node from the layer above. The top-most layer is a single node, termed the \"root\"."
   ]
  },
  {
   "cell_type": "code",
   "execution_count": 53,
   "id": "0c251cb2-9264-44c7-bd30-d7f3a69085e3",
   "metadata": {},
   "outputs": [],
   "source": [
    "class Node(Vertex):\n",
    "    \"\"\"\n",
    "    Special case of Vertex for use in Tree\n",
    "\n",
    "    Attributes\n",
    "    ----------\n",
    "    children : set\n",
    "        Denotes children of the node\n",
    "    \"\"\"\n",
    "    @property\n",
    "    def children(self):\n",
    "        return {edge.end for edge in self.edges}\n",
    "\n",
    "class Tree(Graph):\n",
    "    \"\"\"\n",
    "    Special case of Graph that has properties of Tree\n",
    "\n",
    "    Attributes\n",
    "    ----------\n",
    "    root : Node\n",
    "        Denotes the root node of the tree\n",
    "    is_tree : bool\n",
    "        Must be True\n",
    "    subtrees : set\n",
    "        Returns the set of subtrees created from immediate children of root\n",
    "    \"\"\"\n",
    "    def __init__(self, root:Node):\n",
    "        assert isinstance(root, Node), \"root is not a valid Node\"\n",
    "        super().__init__(directed=True)\n",
    "        self.root = root\n",
    "        assert self.is_tree, \"not a valid tree\"\n",
    "    @property\n",
    "    def nodes(self):\n",
    "        return {self.root}.union(self._expand(self.root))\n",
    "    @property\n",
    "    def is_tree(self):\n",
    "        \"\"\" Performs check for tree validity \"\"\"\n",
    "        nodes = {0: {self.root}}\n",
    "        level = 1\n",
    "        nodes[level] = self.root.children\n",
    "        while len(nodes[level]) > 0:\n",
    "            nodes[level+1] = set.union(*[node.children for node in nodes[level]])\n",
    "            level += 1\n",
    "            for i in range(level):\n",
    "                if len(set.intersection(nodes[i],nodes[level])) > 0:\n",
    "                    return False\n",
    "        return True\n",
    "    @property\n",
    "    def subtrees(self):\n",
    "        return {Tree(child) for child in self.root.children}\n",
    "    def _expand(self,node):\n",
    "        return {node}.union(\n",
    "            *[{child}.union(\n",
    "                *[self._expand(grandchild) \n",
    "                  for grandchild in child.children])\n",
    "              for child in node.children])"
   ]
  },
  {
   "cell_type": "markdown",
   "id": "9134ed23-8270-48b5-9e1b-4c9147d5a21a",
   "metadata": {},
   "source": [
    "Trees have special properties, where each node (except the root) has a single parent, but may have multiple choices. The tree data structure is important to represent branching paths or decisions.\n",
    "\n",
    "We can create a graph using the above implementation, a special case of the graph.\n",
    "\n",
    "We define a node, \"root\" and give it two children \"v10\" and \"v11\". These represent the first layer $V_1$. Each of these nodes is assigned children, which form the second layer $V_2$. Every node in $V_2$ is connected to from a node in $V_1$. We can see this implemented below:"
   ]
  },
  {
   "cell_type": "code",
   "execution_count": 54,
   "id": "5b898be8-f224-4dc8-82bd-3c5c865ba155",
   "metadata": {},
   "outputs": [
    {
     "data": {
      "text/plain": [
       "V:{v20, v11, v21, v23, root, v10}\n",
       "E:{v10-->v20, root-->v11, root-->v10, v10-->v21, v11-->v23}"
      ]
     },
     "execution_count": 54,
     "metadata": {},
     "output_type": "execute_result"
    }
   ],
   "source": [
    "root = Node(\"root\")\n",
    "left = Node(\"v10\")\n",
    "root.connect(left)\n",
    "\n",
    "right = Node(\"v11\")\n",
    "root.connect(right)\n",
    "\n",
    "left.connect(Node(\"v20\"))\n",
    "left.connect(Node(\"v21\"))\n",
    "\n",
    "right.connect(Node(\"v23\"))\n",
    "\n",
    "T = Tree(root)\n",
    "T"
   ]
  },
  {
   "cell_type": "markdown",
   "id": "51eff56b-c9b8-4f84-a67f-d1396ace92a4",
   "metadata": {},
   "source": [
    "Using the `plot` utility, we can visualise this and look at the tree structure"
   ]
  },
  {
   "cell_type": "code",
   "execution_count": 55,
   "id": "4a51f7a3-567c-448d-942a-d28123129ff8",
   "metadata": {},
   "outputs": [
    {
     "data": {
      "image/png": "[encoded data removed]",
      "text/plain": [
       "<Figure size 600x600 with 1 Axes>"
      ]
     },
     "metadata": {},
     "output_type": "display_data"
    }
   ],
   "source": [
    "T.plot()"
   ]
  },
  {
   "cell_type": "markdown",
   "id": "c231c191-56b8-40e3-bb40-96ff58a7a44d",
   "metadata": {},
   "source": [
    "> Be aware that trees are typically formatted nicer than this, but that this shows that any graph may be a tree if it's structured correctly."
   ]
  },
  {
   "cell_type": "markdown",
   "id": "1eea174a-0070-4886-826b-32afc52ad8cb",
   "metadata": {},
   "source": [
    "What happens if we create an edge between $v10$ and $v11$? Since these are in the same layer, is this still a tree?"
   ]
  },
  {
   "cell_type": "code",
   "execution_count": 56,
   "id": "1e7c75e4-ba61-429b-aad4-bc3f9536065c",
   "metadata": {},
   "outputs": [
    {
     "data": {
      "text/plain": [
       "False"
      ]
     },
     "execution_count": 56,
     "metadata": {},
     "output_type": "execute_result"
    }
   ],
   "source": [
    "left.connect(right)\n",
    "\n",
    "T.is_tree"
   ]
  },
  {
   "cell_type": "markdown",
   "id": "807704fc-c1c6-4108-af9d-8ec098363b94",
   "metadata": {},
   "source": [
    "We perform the check by traversing the edges to create the subsets and ensuring that no node appears in multiple subsets.\n",
    "\n",
    "```python\n",
    "def is_tree(self):\n",
    "    \"\"\" Performs check for tree validity \"\"\"\n",
    "    nodes = {0: {self.root}}\n",
    "    level = 1\n",
    "    nodes[level] = self.root.children\n",
    "    while len(nodes[level]) > 0:\n",
    "        nodes[level+1] = set.union(*[node.children for node in nodes[level]])\n",
    "        level += 1\n",
    "        for i in range(level):\n",
    "            if len(set.intersection(nodes[i],nodes[level])) > 0:\n",
    "                return False\n",
    "    return True\n",
    "```"
   ]
  }
 ],
 "metadata": {
  "kernelspec": {
   "display_name": "Python 3 (ipykernel)",
   "language": "python",
   "name": "python3"
  },
  "language_info": {
   "codemirror_mode": {
    "name": "ipython",
    "version": 3
   },
   "file_extension": ".py",
   "mimetype": "text/x-python",
   "name": "python",
   "nbconvert_exporter": "python",
   "pygments_lexer": "ipython3",
   "version": "3.11.5"
  }
 },
 "nbformat": 4,
 "nbformat_minor": 5
}
