{
 "cells": [
  {
   "cell_type": "markdown",
   "id": "5f9926c5-8c34-478e-9f78-2841de2dd3a6",
   "metadata": {},
   "source": [
    "![](https://raw.githubusercontent.com/wilocw/co2114-codebase/2024/static/0/uol_banner_red.png)\n",
    "\n",
    "# CO2114<br />Foundations in Artificial Intelligence"
   ]
  },
  {
   "cell_type": "markdown",
   "id": "26459d21-221a-4942-9c87-3b503accee4c",
   "metadata": {},
   "source": [
    "# Tutorial 4 - Minimax\n"
   ]
  },
  {
   "cell_type": "code",
   "execution_count": null,
   "id": "3b3c3ca2-585b-4e79-9ce1-bd793475771e",
   "metadata": {},
   "outputs": [],
   "source": [
    "!pip install \"git+https://github.com/wilocw/co2114-codebase.git@2024#egg=optimisation&subdirectory=lab/src/4\""
   ]
  },
  {
   "cell_type": "code",
   "execution_count": 1,
   "id": "bee5f12c-74d8-4c32-a5a0-85aa0f566ff3",
   "metadata": {},
   "outputs": [
    {
     "name": "stdout",
     "output_type": "stream",
     "text": [
      "pygame 2.2.0 (SDL 2.28.5, Python 3.11.5)\n",
      "Hello from the pygame community. https://www.pygame.org/contribute.html\n"
     ]
    }
   ],
   "source": [
    "from optimisation.minimax import *"
   ]
  },
  {
   "cell_type": "markdown",
   "id": "9ca15a60-4c1c-4022-8984-45b6059d492a",
   "metadata": {},
   "source": [
    "```python\n",
    "class MinimaxAgent(UtilityBasedAgent):\n",
    "\n",
    "    def to_move(self, state):\n",
    "        NotImplemented\n",
    "\n",
    "    def moves(self, state):\n",
    "        NotImplemented\n",
    "\n",
    "    def score(self, state):\n",
    "        NotImplemented\n",
    "    \n",
    "    def minimax_utility(self, state):\n",
    "        match self.to_move(state):\n",
    "            case \"min\":\n",
    "                return min(\n",
    "                    [self.minimax_utility(move) for move in self.moves(state)])\n",
    "            case \"max\":\n",
    "                return max(\n",
    "                    [self.minimax_utility(move) for move in self.moves(state)])\n",
    "            case \"terminal\":\n",
    "                return self.score(state)\n",
    "\n",
    "    def utility(self, action):\n",
    "        _, state = action\n",
    "        return self.minimax_utility(state)\n",
    "    \n",
    "    def program(self,percepts):\n",
    "        print(f\"{self}: thinking ...\")\n",
    "        state = percepts\n",
    "        if self.to_move(state) == \"terminal\":\n",
    "            return (\"done\", state)\n",
    "        \n",
    "        action = self.maximise_utility(\n",
    "            [(\"move\", move) for move in self.moves(state)])\n",
    "        \n",
    "        return action\n",
    "```"
   ]
  },
  {
   "cell_type": "code",
   "execution_count": 2,
   "id": "a4b52271-f258-41a3-a0db-1d16dc5cec54",
   "metadata": {},
   "outputs": [
    {
     "name": "stdin",
     "output_type": "stream",
     "text": [
      "Press enter to start simulation \n"
     ]
    },
    {
     "name": "stdout",
     "output_type": "stream",
     "text": [
      "_ _|_ _|_ _\n",
      "_ _|_ _|_ _\n",
      "   |   |  : Running for 100 iterations.\n",
      "_ _|_ _|_ _\n",
      "_ _|_ _|_ _\n",
      "   |   |  \n"
     ]
    },
    {
     "name": "stdin",
     "output_type": "stream",
     "text": [
      "choose move row [1-3] 1\n",
      "choose move column [1-3] 2\n"
     ]
    },
    {
     "name": "stdout",
     "output_type": "stream",
     "text": [
      "_ _|_O_|_ _\n",
      "_ _|_ _|_ _\n",
      "   |   |  \n",
      "X: thinking ...\n",
      "('move', [[X, O,  ], [ ,  ,  ], [ ,  ,  ]])\n",
      "_X_|_O_|_ _\n",
      "_ _|_ _|_ _\n",
      "   |   |  \n"
     ]
    },
    {
     "name": "stdin",
     "output_type": "stream",
     "text": [
      "choose move row [1-3] 3\n",
      "choose move column [1-3] 3\n"
     ]
    },
    {
     "name": "stdout",
     "output_type": "stream",
     "text": [
      "_X_|_O_|_ _\n",
      "_ _|_ _|_ _\n",
      "   |   | O\n",
      "X: thinking ...\n",
      "('move', [[X, O,  ], [ , X,  ], [ ,  , O]])\n",
      "_X_|_O_|_ _\n",
      "_ _|_X_|_ _\n",
      "   |   | O\n"
     ]
    },
    {
     "name": "stdin",
     "output_type": "stream",
     "text": [
      "choose move row [1-3] 3\n",
      "choose move column [1-3] 2\n"
     ]
    },
    {
     "name": "stdout",
     "output_type": "stream",
     "text": [
      "_X_|_O_|_ _\n",
      "_ _|_X_|_ _\n",
      "   | O | O\n",
      "X: thinking ...\n",
      "('move', [[X, O,  ], [ , X,  ], [X, O, O]])\n",
      "_X_|_O_|_ _\n",
      "_ _|_X_|_ _\n",
      " X | O | O\n"
     ]
    },
    {
     "name": "stdin",
     "output_type": "stream",
     "text": [
      "choose move row [1-3] 2\n",
      "choose move column [1-3] 1\n"
     ]
    },
    {
     "name": "stdout",
     "output_type": "stream",
     "text": [
      "_X_|_O_|_ _\n",
      "_O_|_X_|_ _\n",
      " X | O | O\n",
      "X: thinking ...\n",
      "('move', [[X, O, X], [O, X,  ], [X, O, O]])\n",
      "_X_|_O_|_X_\n",
      "_O_|_X_|_ _\n",
      " X | O | O\n"
     ]
    },
    {
     "ename": "KeyboardInterrupt",
     "evalue": "Interrupted by user",
     "output_type": "error",
     "traceback": [
      "\u001b[1;31m---------------------------------------------------------------------------\u001b[0m",
      "\u001b[1;31mKeyboardInterrupt\u001b[0m                         Traceback (most recent call last)",
      "Cell \u001b[1;32mIn[2], line 4\u001b[0m\n\u001b[0;32m      1\u001b[0m env \u001b[38;5;241m=\u001b[39m TicTacToeGame()\n\u001b[0;32m      2\u001b[0m env\u001b[38;5;241m.\u001b[39madd_agent(TicTacToeAgent())\n\u001b[1;32m----> 4\u001b[0m env\u001b[38;5;241m.\u001b[39mrun()\n",
      "File \u001b[1;32m\\\\uol.le.ac.uk\\root\\staff\\home\\w\\wocw2\\my documents\\teaching\\23 24\\semester 2\\co2114\\codebase\\lab\\src\\2\\agent\\environment.py:36\u001b[0m, in \u001b[0;36mBaseEnvironment.run\u001b[1;34m(self, steps, pause_for_user)\u001b[0m\n\u001b[0;32m     34\u001b[0m         \u001b[38;5;28mprint\u001b[39m(\u001b[38;5;124mf\u001b[39m\u001b[38;5;124m\"\u001b[39m\u001b[38;5;132;01m{\u001b[39;00m\u001b[38;5;28mself\u001b[39m\u001b[38;5;132;01m}\u001b[39;00m\u001b[38;5;124m: Simulation complete after \u001b[39m\u001b[38;5;132;01m{\u001b[39;00mi\u001b[38;5;132;01m}\u001b[39;00m\u001b[38;5;124m of \u001b[39m\u001b[38;5;132;01m{\u001b[39;00msteps\u001b[38;5;132;01m}\u001b[39;00m\u001b[38;5;124m iterations.\u001b[39m\u001b[38;5;124m\"\u001b[39m)\n\u001b[0;32m     35\u001b[0m         \u001b[38;5;28;01mreturn\u001b[39;00m\n\u001b[1;32m---> 36\u001b[0m     \u001b[38;5;28mself\u001b[39m\u001b[38;5;241m.\u001b[39mstep()\n\u001b[0;32m     37\u001b[0m \u001b[38;5;28mprint\u001b[39m(\u001b[38;5;124mf\u001b[39m\u001b[38;5;124m\"\u001b[39m\u001b[38;5;132;01m{\u001b[39;00m\u001b[38;5;28mself\u001b[39m\u001b[38;5;132;01m}\u001b[39;00m\u001b[38;5;124m: Simulation complete after \u001b[39m\u001b[38;5;132;01m{\u001b[39;00msteps\u001b[38;5;132;01m}\u001b[39;00m\u001b[38;5;124m of \u001b[39m\u001b[38;5;132;01m{\u001b[39;00msteps\u001b[38;5;132;01m}\u001b[39;00m\u001b[38;5;124m iterations.\u001b[39m\u001b[38;5;124m\"\u001b[39m)\n",
      "File \u001b[1;32m\\\\uol.le.ac.uk\\root\\staff\\home\\w\\wocw2\\my documents\\teaching\\23 24\\semester 2\\co2114\\codebase\\lab\\src\\4\\optimisation\\minimax.py:34\u001b[0m, in \u001b[0;36mTicTacToeGame.step\u001b[1;34m(self)\u001b[0m\n\u001b[0;32m     32\u001b[0m     j \u001b[38;5;241m=\u001b[39m \u001b[38;5;28mint\u001b[39m(\u001b[38;5;28minput\u001b[39m(\u001b[38;5;124m\"\u001b[39m\u001b[38;5;124mchoose move column [1-3]\u001b[39m\u001b[38;5;124m\"\u001b[39m))\u001b[38;5;241m-\u001b[39m\u001b[38;5;241m1\u001b[39m\n\u001b[0;32m     33\u001b[0m     \u001b[38;5;28;01mreturn\u001b[39;00m i,j\n\u001b[1;32m---> 34\u001b[0m i,j \u001b[38;5;241m=\u001b[39m get_position()\n\u001b[0;32m     35\u001b[0m placed \u001b[38;5;241m=\u001b[39m \u001b[38;5;28;01mFalse\u001b[39;00m\n\u001b[0;32m     36\u001b[0m \u001b[38;5;28;01mif\u001b[39;00m \u001b[38;5;129;01mnot\u001b[39;00m \u001b[38;5;28mself\u001b[39m\u001b[38;5;241m.\u001b[39mboard[i][j]\u001b[38;5;241m.\u001b[39mplayer:\n",
      "File \u001b[1;32m\\\\uol.le.ac.uk\\root\\staff\\home\\w\\wocw2\\my documents\\teaching\\23 24\\semester 2\\co2114\\codebase\\lab\\src\\4\\optimisation\\minimax.py:31\u001b[0m, in \u001b[0;36mTicTacToeGame.step.<locals>.get_position\u001b[1;34m()\u001b[0m\n\u001b[0;32m     29\u001b[0m \u001b[38;5;28;01mdef\u001b[39;00m \u001b[38;5;21mget_position\u001b[39m():\n\u001b[0;32m     30\u001b[0m     \u001b[38;5;28mprint\u001b[39m(\u001b[38;5;28mself\u001b[39m)\n\u001b[1;32m---> 31\u001b[0m     i \u001b[38;5;241m=\u001b[39m \u001b[38;5;28mint\u001b[39m(\u001b[38;5;28minput\u001b[39m(\u001b[38;5;124m\"\u001b[39m\u001b[38;5;124mchoose move row [1-3]\u001b[39m\u001b[38;5;124m\"\u001b[39m))\u001b[38;5;241m-\u001b[39m\u001b[38;5;241m1\u001b[39m\n\u001b[0;32m     32\u001b[0m     j \u001b[38;5;241m=\u001b[39m \u001b[38;5;28mint\u001b[39m(\u001b[38;5;28minput\u001b[39m(\u001b[38;5;124m\"\u001b[39m\u001b[38;5;124mchoose move column [1-3]\u001b[39m\u001b[38;5;124m\"\u001b[39m))\u001b[38;5;241m-\u001b[39m\u001b[38;5;241m1\u001b[39m\n\u001b[0;32m     33\u001b[0m     \u001b[38;5;28;01mreturn\u001b[39;00m i,j\n",
      "File \u001b[1;32m~\\.conda\\envs\\playground\\Lib\\site-packages\\ipykernel\\kernelbase.py:1202\u001b[0m, in \u001b[0;36mKernel.raw_input\u001b[1;34m(self, prompt)\u001b[0m\n\u001b[0;32m   1200\u001b[0m     msg \u001b[38;5;241m=\u001b[39m \u001b[38;5;124m\"\u001b[39m\u001b[38;5;124mraw_input was called, but this frontend does not support input requests.\u001b[39m\u001b[38;5;124m\"\u001b[39m\n\u001b[0;32m   1201\u001b[0m     \u001b[38;5;28;01mraise\u001b[39;00m StdinNotImplementedError(msg)\n\u001b[1;32m-> 1202\u001b[0m \u001b[38;5;28;01mreturn\u001b[39;00m \u001b[38;5;28mself\u001b[39m\u001b[38;5;241m.\u001b[39m_input_request(\n\u001b[0;32m   1203\u001b[0m     \u001b[38;5;28mstr\u001b[39m(prompt),\n\u001b[0;32m   1204\u001b[0m     \u001b[38;5;28mself\u001b[39m\u001b[38;5;241m.\u001b[39m_parent_ident[\u001b[38;5;124m\"\u001b[39m\u001b[38;5;124mshell\u001b[39m\u001b[38;5;124m\"\u001b[39m],\n\u001b[0;32m   1205\u001b[0m     \u001b[38;5;28mself\u001b[39m\u001b[38;5;241m.\u001b[39mget_parent(\u001b[38;5;124m\"\u001b[39m\u001b[38;5;124mshell\u001b[39m\u001b[38;5;124m\"\u001b[39m),\n\u001b[0;32m   1206\u001b[0m     password\u001b[38;5;241m=\u001b[39m\u001b[38;5;28;01mFalse\u001b[39;00m,\n\u001b[0;32m   1207\u001b[0m )\n",
      "File \u001b[1;32m~\\.conda\\envs\\playground\\Lib\\site-packages\\ipykernel\\kernelbase.py:1245\u001b[0m, in \u001b[0;36mKernel._input_request\u001b[1;34m(self, prompt, ident, parent, password)\u001b[0m\n\u001b[0;32m   1242\u001b[0m \u001b[38;5;28;01mexcept\u001b[39;00m \u001b[38;5;167;01mKeyboardInterrupt\u001b[39;00m:\n\u001b[0;32m   1243\u001b[0m     \u001b[38;5;66;03m# re-raise KeyboardInterrupt, to truncate traceback\u001b[39;00m\n\u001b[0;32m   1244\u001b[0m     msg \u001b[38;5;241m=\u001b[39m \u001b[38;5;124m\"\u001b[39m\u001b[38;5;124mInterrupted by user\u001b[39m\u001b[38;5;124m\"\u001b[39m\n\u001b[1;32m-> 1245\u001b[0m     \u001b[38;5;28;01mraise\u001b[39;00m \u001b[38;5;167;01mKeyboardInterrupt\u001b[39;00m(msg) \u001b[38;5;28;01mfrom\u001b[39;00m \u001b[38;5;28;01mNone\u001b[39;00m\n\u001b[0;32m   1246\u001b[0m \u001b[38;5;28;01mexcept\u001b[39;00m \u001b[38;5;167;01mException\u001b[39;00m:\n\u001b[0;32m   1247\u001b[0m     \u001b[38;5;28mself\u001b[39m\u001b[38;5;241m.\u001b[39mlog\u001b[38;5;241m.\u001b[39mwarning(\u001b[38;5;124m\"\u001b[39m\u001b[38;5;124mInvalid Message:\u001b[39m\u001b[38;5;124m\"\u001b[39m, exc_info\u001b[38;5;241m=\u001b[39m\u001b[38;5;28;01mTrue\u001b[39;00m)\n",
      "\u001b[1;31mKeyboardInterrupt\u001b[0m: Interrupted by user"
     ]
    }
   ],
   "source": [
    "env = TicTacToeGame()\n",
    "env.add_agent(TicTacToeAgent())\n",
    "\n",
    "env.run()"
   ]
  },
  {
   "cell_type": "code",
   "execution_count": null,
   "id": "b0b50bc0-97e4-4f77-b246-b0096f5f5c8c",
   "metadata": {},
   "outputs": [],
   "source": []
  }
 ],
 "metadata": {
  "kernelspec": {
   "display_name": "Python 3 (ipykernel)",
   "language": "python",
   "name": "python3"
  },
  "language_info": {
   "codemirror_mode": {
    "name": "ipython",
    "version": 3
   },
   "file_extension": ".py",
   "mimetype": "text/x-python",
   "name": "python",
   "nbconvert_exporter": "python",
   "pygments_lexer": "ipython3",
   "version": "3.11.5"
  }
 },
 "nbformat": 4,
 "nbformat_minor": 5
}
