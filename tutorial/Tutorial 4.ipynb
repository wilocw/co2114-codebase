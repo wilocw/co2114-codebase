{
 "cells": [
  {
   "cell_type": "markdown",
   "id": "5f9926c5-8c34-478e-9f78-2841de2dd3a6",
   "metadata": {},
   "source": [
    "![](https://raw.githubusercontent.com/wilocw/co2114-codebase/2024/static/0/uol_banner_red.png)\n",
    "\n",
    "# CO2114<br />Foundations in Artificial Intelligence"
   ]
  },
  {
   "cell_type": "markdown",
   "id": "26459d21-221a-4942-9c87-3b503accee4c",
   "metadata": {},
   "source": [
    "# Tutorial 4 - Minimax\n",
    "\n",
    "In this tutorial, we will look at the Minimax algorithm, a type of adversarial optimisation technique used in competitive _zero sum games_. Minimax involves exploring sequences of locally reachable states by an agent and its competitor, where each move alternates between minimising and maximising two objectives."
   ]
  },
  {
   "cell_type": "markdown",
   "id": "fc08308a-41fc-4d22-8b8d-9ceec6497fc0",
   "metadata": {},
   "source": [
    "## Setup\n",
    "> **Run the following cell only if you are using Google Colab**"
   ]
  },
  {
   "cell_type": "code",
   "execution_count": null,
   "id": "3b3c3ca2-585b-4e79-9ce1-bd793475771e",
   "metadata": {},
   "outputs": [],
   "source": [
    "!pip install \"git+https://github.com/wilocw/co2114-codebase.git@2024#egg=optimisation&subdirectory=lab/src/4\""
   ]
  },
  {
   "cell_type": "markdown",
   "id": "8021c399-03b5-461e-8de2-44d1d6119342",
   "metadata": {},
   "source": [
    "## Imports"
   ]
  },
  {
   "cell_type": "code",
   "execution_count": null,
   "id": "bee5f12c-74d8-4c32-a5a0-85aa0f566ff3",
   "metadata": {},
   "outputs": [],
   "source": [
    "from optimisation.minimax import *"
   ]
  },
  {
   "cell_type": "markdown",
   "id": "dc101890-8b68-4296-abd9-3409ebe34cfd",
   "metadata": {},
   "source": [
    "## Adversarial Search\n",
    "\n",
    "Adversarial search refers to search strategies that incorporate opponent's objectives into their own. These are typically used in **competitive multi-agent** task environments, where the goal of an opponent is in conflict with the goal of the agent.\n",
    "\n",
    "Minimax is one such adversarial search problem that explores local search space, simulating future actions by both the agent and its opponent. It is called Minimax by alternating between so-called alternates between **minimising** the opponent's predicted utility and **maximising** its own."
   ]
  },
  {
   "cell_type": "markdown",
   "id": "9ca15a60-4c1c-4022-8984-45b6059d492a",
   "metadata": {},
   "source": [
    "## Minimax\n",
    "\n",
    "Minimax is a local search-based optimisation approach. The search tree comprises consecutive moves made first by the agent and then the opponent until a terminal state is reached.\n",
    "\n",
    "The terminal state is defined by the nature of the game.\n",
    "\n",
    "Typically, some score is assigned to the terminal states based on the win conditions of the game. Most simply, one could assign +1 to a victory; -1 to a loss; and 0 to a draw.\n",
    "\n",
    "At each level of the search tree, representing alternating turns by opposing players, the score can be propogated by taking the minimum or maximum based on the player.\n",
    "\n",
    "At a decision point where the agent is making a move; the utility should be _maximised_. When simulating turns for the opposing player, the utility should be _minimised_."
   ]
  },
  {
   "cell_type": "markdown",
   "id": "d1fc10b6-6203-4571-9a1d-bbca32f59452",
   "metadata": {},
   "source": [
    "```python\n",
    "class MinimaxAgent(UtilityBasedAgent):\n",
    "\n",
    "    def to_move(self, state):\n",
    "        NotImplemented\n",
    "\n",
    "    def moves(self, state):\n",
    "        NotImplemented\n",
    "\n",
    "    def score(self, state):\n",
    "        NotImplemented\n",
    "    \n",
    "    def minimax_utility(self, state):\n",
    "        match self.to_move(state):\n",
    "            case \"min\":\n",
    "                return min(\n",
    "                    [self.minimax_utility(move) for move in self.moves(state)])\n",
    "            case \"max\":\n",
    "                return max(\n",
    "                    [self.minimax_utility(move) for move in self.moves(state)])\n",
    "            case \"terminal\":\n",
    "                return self.score(state)\n",
    "\n",
    "    def utility(self, action):\n",
    "        _, state = action\n",
    "        return self.minimax_utility(state)\n",
    "    \n",
    "    def program(self,percepts):\n",
    "        print(f\"{self}: thinking ...\")\n",
    "        state = percepts\n",
    "        if self.to_move(state) == \"terminal\":\n",
    "            return (\"done\", state)\n",
    "        \n",
    "        action = self.maximise_utility(\n",
    "            [(\"move\", move) for move in self.moves(state)])\n",
    "        \n",
    "        return action\n",
    "```"
   ]
  },
  {
   "cell_type": "code",
   "execution_count": null,
   "id": "a4b52271-f258-41a3-a0db-1d16dc5cec54",
   "metadata": {},
   "outputs": [],
   "source": [
    "env = TicTacToeGame()\n",
    "env.add_agent(TicTacToeAgent())\n",
    "\n",
    "env.run()"
   ]
  },
  {
   "cell_type": "code",
   "execution_count": null,
   "id": "b0b50bc0-97e4-4f77-b246-b0096f5f5c8c",
   "metadata": {},
   "outputs": [],
   "source": []
  }
 ],
 "metadata": {
  "kernelspec": {
   "display_name": "Python 3 (ipykernel)",
   "language": "python",
   "name": "python3"
  },
  "language_info": {
   "codemirror_mode": {
    "name": "ipython",
    "version": 3
   },
   "file_extension": ".py",
   "mimetype": "text/x-python",
   "name": "python",
   "nbconvert_exporter": "python",
   "pygments_lexer": "ipython3",
   "version": "3.11.5"
  }
 },
 "nbformat": 4,
 "nbformat_minor": 5
}
