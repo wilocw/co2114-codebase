{
 "cells": [
  {
   "cell_type": "markdown",
   "id": "96ffdadd-234d-490c-adfc-c5bde6ace531",
   "metadata": {},
   "source": [
    "![](https://raw.githubusercontent.com/wilocw/co2114-codebase/2024/static/0/uol_banner_red.png)\n",
    "\n",
    "# CO2114<br />Foundations in Artificial Intelligence"
   ]
  },
  {
   "cell_type": "markdown",
   "id": "c754001d-7f18-4238-89e2-d3bb1f30df74",
   "metadata": {},
   "source": [
    "# Tutorial 5 - AC-3\n",
    "\n",
    "In this tutorial, we will work through an example of the AC-3 algorithm, a method for acheiving arc consistency in a constraint satisfaction problem."
   ]
  },
  {
   "cell_type": "markdown",
   "id": "c340687e-14b1-494a-be29-f18a8a5161a4",
   "metadata": {},
   "source": [
    "## Setup\n",
    "> **Run the following cell only if you are using Google Colab**"
   ]
  },
  {
   "cell_type": "code",
   "execution_count": null,
   "id": "f9423698-413d-4361-8545-83240a5a3422",
   "metadata": {},
   "outputs": [],
   "source": [
    "!pip install \"git+https://github.com/wilocw/co2114-codebase.git@2024#egg=agent&subdirectory=lab/src/2\"\n",
    "!pip install \"git+https://github.com/wilocw/co2114-codebase.git@2024#egg=search&subdirectory=lab/src/3\"\n",
    "!pip install \"git+https://github.com/wilocw/co2114-codebase.git@2024#egg=optimisation&subdirectory=lab/src/4\"\n",
    "!pip install \"git+https://github.com/wilocw/co2114-codebase.git@2024#egg=constraints&subdirectory=lab/src/5\""
   ]
  },
  {
   "cell_type": "markdown",
   "id": "e5a29ad4-3d55-4743-b0a7-1081756a49b6",
   "metadata": {},
   "source": [
    "## Imports"
   ]
  },
  {
   "cell_type": "code",
   "execution_count": null,
   "id": "761db2e3-d3d7-4ae7-8cbc-931b5b2333f0",
   "metadata": {},
   "outputs": [],
   "source": [
    "from constraints.csp import ConstraintSatisfactionProblem, Variable, Factor"
   ]
  },
  {
   "cell_type": "markdown",
   "id": "2eabb3cc-5c40-429d-a2fe-17fcf145584a",
   "metadata": {},
   "source": [
    "### `csp.Variable`"
   ]
  },
  {
   "cell_type": "markdown",
   "id": "a0adf4a0-901a-4301-b8f5-7d6f06e89e5d",
   "metadata": {},
   "source": [
    "The `Variable` class is a data structure implemented to represent a variable in a constraint satisfaction problem.\n",
    "\n",
    "#### Constructor: \n",
    "```python\n",
    "A = Variable(domain, name=None)\n",
    "```\n",
    "\n",
    "#### Attributes:\n",
    "- value: `A.value`\n",
    "- domain: `A.domain`\n",
    "- name [optional]: `A.name`\n",
    "- is assigned: `A.is_assigned`"
   ]
  },
  {
   "cell_type": "code",
   "execution_count": null,
   "id": "f6b75d4e-fdf8-41a0-8662-585d95f820e5",
   "metadata": {},
   "outputs": [],
   "source": [
    "domain = {0, 1, 2}  # example domain\n",
    "A = Variable(domain, name=\"A\")\n",
    "A  # has no value"
   ]
  },
  {
   "cell_type": "code",
   "execution_count": null,
   "id": "5c4a18c6-bc18-4830-9ac5-3f29fd8202b9",
   "metadata": {},
   "outputs": [],
   "source": [
    "A.is_assigned"
   ]
  },
  {
   "cell_type": "code",
   "execution_count": null,
   "id": "ace6ea64-aed0-4b95-9f14-9752046c0a4a",
   "metadata": {},
   "outputs": [],
   "source": [
    "A.value = 1\n",
    "A"
   ]
  },
  {
   "cell_type": "code",
   "execution_count": null,
   "id": "032c9318-e560-4106-85f8-738fb23eaa30",
   "metadata": {},
   "outputs": [],
   "source": [
    "A.is_assigned"
   ]
  },
  {
   "cell_type": "code",
   "execution_count": null,
   "id": "f7253607-e275-403a-86c0-5c126ece78e6",
   "metadata": {},
   "outputs": [],
   "source": [
    "try:\n",
    "    A.value = 4  # 4 is not in domain\n",
    "except Exception as e:\n",
    "    print(e)"
   ]
  },
  {
   "cell_type": "markdown",
   "id": "e41dd8d7-744e-479d-ad0f-a704bccc24a9",
   "metadata": {},
   "source": [
    "### `csp.Factor`"
   ]
  },
  {
   "cell_type": "markdown",
   "id": "42a4281f-21c7-41ab-a342-67b5b25c9c8f",
   "metadata": {},
   "source": [
    "The `Factor` class is the data structure representing a factorised constraint: a constraint and the variables as part of it.\n",
    "\n",
    "#### Constructor\n",
    "```python\n",
    "f = Factor(constraint, variables)\n",
    "```\n",
    "\n",
    "#### Attributes:\n",
    "- variables: `f.variables`\n",
    "- is satisfied: `f.is_satisfied` \n",
    "- is unary: `f.is_unary`\n",
    "- is binary: `f.is_binary`\n",
    "- arcs (binary only): `f.arcs`\n",
    "- is global: `f.is_global`\n",
    "\n",
    "It is also possible to evaluate a factor manually using `f(*variables)`. You also use the `in` keyword, to either check if a variable is in a factor, or iterate through variables, e.g.\n",
    "```python\n",
    "A in f  # true or false\n",
    "```\n",
    "or\n",
    "```python\n",
    "for variable in f:\n",
    "    ...\n",
    "```"
   ]
  },
  {
   "cell_type": "markdown",
   "id": "cb07d112-fe24-46ed-a085-8f5106e85df8",
   "metadata": {},
   "source": [
    "##### Unary Constraint\n",
    "\n",
    "A unary constraint is one that involves only one variable"
   ]
  },
  {
   "cell_type": "code",
   "execution_count": null,
   "id": "0ded0a8e-34c0-4abf-ad0a-6b0b1cf3b4b1",
   "metadata": {},
   "outputs": [],
   "source": [
    "constraint = lambda a: a >= 2\n",
    "f = Factor(constraint, A)\n",
    "f"
   ]
  },
  {
   "cell_type": "code",
   "execution_count": null,
   "id": "dd8bb742-dc0a-4b84-9646-7d99a74f74e8",
   "metadata": {},
   "outputs": [],
   "source": [
    "print(f\"{A.name}: {A}\")\n",
    "f.is_satisfied"
   ]
  },
  {
   "cell_type": "code",
   "execution_count": null,
   "id": "ed423c69-5d90-4334-80a6-59d41f36e3b7",
   "metadata": {},
   "outputs": [],
   "source": [
    "f.is_unary"
   ]
  },
  {
   "cell_type": "markdown",
   "id": "54f32cc5-baae-4b98-9740-232ab5f2b9c8",
   "metadata": {},
   "source": [
    "##### Binary Constraint\n",
    "A binary constraint involves exactly two variables"
   ]
  },
  {
   "cell_type": "code",
   "execution_count": null,
   "id": "290a3f75-0a6d-4227-9a54-49316454bcc4",
   "metadata": {},
   "outputs": [],
   "source": [
    "B = Variable(domain, 'B')\n",
    "print(f\"{A.name}: {A}, {B.name}: {B}\")\n",
    "\n",
    "constraint = lambda a,b: a != b\n",
    "g = Factor(constraint, (A, B))\n",
    "g"
   ]
  },
  {
   "cell_type": "code",
   "execution_count": null,
   "id": "02c6771e-818e-4963-bf3d-6709e01b7ef1",
   "metadata": {},
   "outputs": [],
   "source": [
    "g.is_satisfied"
   ]
  },
  {
   "cell_type": "code",
   "execution_count": null,
   "id": "9ff1516a-31f6-497c-9666-52752655a31e",
   "metadata": {},
   "outputs": [],
   "source": [
    "print(f\"A in f: {A in f}\")  # f is constraint on A?\n",
    "print(f\"B in f: {B in f}\")  # f is constraint on B?\n",
    "print(f\"A in g: {A in g}\")  # g is constraint on A?\n",
    "print(f\"B in g: {B in g}\")  # g is constraint on B?"
   ]
  },
  {
   "cell_type": "code",
   "execution_count": null,
   "id": "0c27179c-997e-44d2-a9fc-34d382388325",
   "metadata": {},
   "outputs": [],
   "source": [
    "g.is_unary"
   ]
  },
  {
   "cell_type": "code",
   "execution_count": null,
   "id": "377370b8-734c-46d3-b607-b385a3e3f512",
   "metadata": {},
   "outputs": [],
   "source": [
    "g.is_binary"
   ]
  },
  {
   "cell_type": "markdown",
   "id": "6a6525f6-6e7c-4363-acf7-0c586445b6f4",
   "metadata": {},
   "source": [
    "> All factors return True if any variable is unassigned"
   ]
  },
  {
   "cell_type": "code",
   "execution_count": null,
   "id": "e03f1cb9-ce15-46a3-ba7a-3fb856f2badf",
   "metadata": {},
   "outputs": [],
   "source": [
    "constraint = lambda a,b: a==b  # the opposite of g\n",
    "h = Factor(constraint, (A, B))\n",
    "h"
   ]
  },
  {
   "cell_type": "code",
   "execution_count": null,
   "id": "e96a5048-ee2f-4cf7-b4b3-7e8c14cfb884",
   "metadata": {},
   "outputs": [],
   "source": [
    "print(f\"{A.name}: {A}, {B.name}: {B}\")\n",
    "print(f\"g is satisfied: {g.is_satisfied}\\nh is satisfied: {h.is_satisfied}\")"
   ]
  },
  {
   "cell_type": "code",
   "execution_count": null,
   "id": "ff6bf7e3-ba1b-4396-88af-1942b6753dcd",
   "metadata": {},
   "outputs": [],
   "source": [
    "B.value = 2\n",
    "print(f\"{A.name}: {A}, {B.name}: {B}\")\n",
    "h.is_satisfied"
   ]
  },
  {
   "cell_type": "markdown",
   "id": "78a48a83-44b1-49af-9fd8-58a3d6546b63",
   "metadata": {},
   "source": [
    "##### Global Constraint\n",
    "\n",
    "A global constraint involves more than two variables"
   ]
  },
  {
   "cell_type": "code",
   "execution_count": null,
   "id": "72ccd1f8-0bc8-4e52-9cd6-59bcf7d09f8f",
   "metadata": {},
   "outputs": [],
   "source": [
    "C = Variable(domain, 'C')\n",
    "print(f\"{C.name}.domain={C.domain}\")"
   ]
  },
  {
   "cell_type": "markdown",
   "id": "2fc28ca1-fce8-402b-b398-72cfcd3c551b",
   "metadata": {},
   "source": [
    "> `alldiff` is common constraint that takes N variables, and returns True if all N are different"
   ]
  },
  {
   "cell_type": "code",
   "execution_count": null,
   "id": "ab0340e4-8643-4e82-8967-0555fea62624",
   "metadata": {},
   "outputs": [],
   "source": [
    "from constraints.csp.util import alldiff\n",
    "\n",
    "p = Factor(alldiff, (A, B, C))\n",
    "p"
   ]
  },
  {
   "cell_type": "code",
   "execution_count": null,
   "id": "547eb12d-02b5-4979-b928-697521024d0a",
   "metadata": {},
   "outputs": [],
   "source": [
    "print(f\"{A.name}: {A}, {B.name}: {B}, {C.name}: {C}\")\n",
    "p.is_satisfied"
   ]
  },
  {
   "cell_type": "code",
   "execution_count": null,
   "id": "5a74eddd-02b7-4cc1-9499-46a185a7916f",
   "metadata": {},
   "outputs": [],
   "source": [
    "C.value = 2\n",
    "print(f\"{A.name}: {A}, {B.name}: {B}, {C.name}: {C}\")\n",
    "p.is_satisfied  # ! "
   ]
  },
  {
   "cell_type": "markdown",
   "id": "ec661e0e-609a-4d6e-8419-f8bcbbc0d461",
   "metadata": {},
   "source": [
    "#### `csp.ConstraintSatisfactionProblem`"
   ]
  },
  {
   "attachments": {},
   "cell_type": "markdown",
   "id": "3c8e1e38-28b4-4929-a981-c09c554a8da0",
   "metadata": {},
   "source": [
    "A `ConstraintSatisfactionProblem` is simply the data structure that defines a CSP, defined by the variables, their domains and constraints.\n",
    "\n",
    "#### Constructor\n",
    "```python\n",
    "csp = ConstraintSatisfactionProblem(variables, constraints)\n",
    "```\n",
    "\n",
    "#### Attributes:\n",
    "- variables: `csp.variables`\n",
    "- domains: `csp.domains`\n",
    "- constraints: `csp.domains`\n",
    "- arcs: `csp.arcs`"
   ]
  },
  {
   "cell_type": "markdown",
   "id": "00b1c5a1-1f27-427e-b588-5a3b1ffad423",
   "metadata": {},
   "source": [
    "#### Example"
   ]
  },
  {
   "cell_type": "markdown",
   "id": "cbb23ddf-4f20-4b7a-b69a-3f0c5a2df77d",
   "metadata": {},
   "source": [
    "$$\\mathrm{variables} = \\{A, B\\},$$\n",
    "$$\\mathrm{domains} = \\{A\\in\\{1,2,3\\},B\\in\\{1,2,3\\}\\},$$\n",
    "$$\\mathrm{constraints} = \\{f_0, f_1, f_2\\}$$\n",
    "\n",
    "where $f_0: A \\mapsto A >= 2$, $f_1: A,B \\mapsto A\\neq B$, and $f_2: B\\mapsto B\\text{ is even}$\n"
   ]
  },
  {
   "cell_type": "code",
   "execution_count": null,
   "id": "50adbab1-095d-4b40-9f6d-ede2041c2df2",
   "metadata": {},
   "outputs": [],
   "source": [
    "A = Variable({1,2,3}, name='A')  # variable A and its domain\n",
    "B = Variable({1,2,3}, name='B')  # variable B and its domain"
   ]
  },
  {
   "cell_type": "code",
   "execution_count": null,
   "id": "bc2f8d7f-a73b-40bc-aa44-2697d37c0c4c",
   "metadata": {},
   "outputs": [],
   "source": [
    "constraints = {\n",
    "    Factor(lambda a: a>=2, A),\n",
    "    Factor(lambda a,b: a != b, (A,B)),\n",
    "    Factor(lambda b: b%2 == 0, B)\n",
    "}"
   ]
  },
  {
   "cell_type": "code",
   "execution_count": null,
   "id": "fdf1f6d8-48f9-4405-8149-743bec9ed789",
   "metadata": {},
   "outputs": [],
   "source": [
    "csp = ConstraintSatisfactionProblem([A,B], constraints)"
   ]
  },
  {
   "cell_type": "code",
   "execution_count": null,
   "id": "c503e27a-6af4-4bfe-8dce-0288e1a17121",
   "metadata": {},
   "outputs": [],
   "source": [
    "csp.variables"
   ]
  },
  {
   "cell_type": "code",
   "execution_count": null,
   "id": "5d8fa9a4-32a8-49f8-8ec6-1381210e70ad",
   "metadata": {},
   "outputs": [],
   "source": [
    "csp.domains"
   ]
  },
  {
   "cell_type": "code",
   "execution_count": null,
   "id": "036545d3-300a-4b58-bd40-58c7c4db5aab",
   "metadata": {},
   "outputs": [],
   "source": [
    "csp.constraints"
   ]
  },
  {
   "cell_type": "code",
   "execution_count": null,
   "id": "ebd8a4ac-7960-484e-b345-b7dfac7e1aa5",
   "metadata": {},
   "outputs": [],
   "source": [
    "csp.is_consistent"
   ]
  },
  {
   "cell_type": "code",
   "execution_count": null,
   "id": "e32eee25-ae79-4482-a8c5-d4e76924f51e",
   "metadata": {},
   "outputs": [],
   "source": [
    "csp.is_complete"
   ]
  },
  {
   "cell_type": "markdown",
   "id": "89b709be-9088-4b3d-b3cf-f90144da3e54",
   "metadata": {},
   "source": [
    "## Node Consistency"
   ]
  },
  {
   "cell_type": "markdown",
   "id": "d4080a5e-063e-40d5-850a-e70ee6b6d050",
   "metadata": {},
   "source": [
    "A graph is node consistent when all values in a variable's domain satisfy that unary constraints."
   ]
  },
  {
   "cell_type": "code",
   "execution_count": null,
   "id": "dd3db0c4-1853-4613-9f3b-133c21eb12c7",
   "metadata": {},
   "outputs": [],
   "source": [
    "A = Variable({1,2,3}, name='A')  # variable A and its domain\n",
    "B = Variable({1,2,3}, name='B')  # variable B and its domain\n",
    "\n",
    "constraints = {\n",
    "    Factor(lambda a: a>=2, A),\n",
    "    Factor(lambda a,b: a != b, (A,B)),\n",
    "    Factor(lambda b: b%2 == 0, B)\n",
    "}\n",
    "\n",
    "csp = ConstraintSatisfactionProblem([A,B], constraints)\n",
    "csp.domains"
   ]
  },
  {
   "cell_type": "markdown",
   "id": "e8289c87-7ada-4de3-9601-370ddcc62703",
   "metadata": {},
   "source": [
    "We can check this by iterating through the variables and checking each possible value of the variable. For any unary constraints on that variable, if the value does not satisfy them, we should remove it from the domain.\n",
    "\n",
    "You can see this in action in the following code:"
   ]
  },
  {
   "cell_type": "code",
   "execution_count": null,
   "id": "2701c07b-05e3-47c0-b506-1b45e30e8154",
   "metadata": {},
   "outputs": [],
   "source": [
    "def make_node_consistent(csp):\n",
    "    for variable in csp.variables:  # for eah variable in csp\n",
    "        if variable.is_assigned: continue  # ignore any assign\n",
    "            \n",
    "        for value in variable.domain.copy(): # copy() to avoid set size change errors \n",
    "            variable.value = value  # temporarily assign value\n",
    "            for constraint in csp.constraints:  # for all constraints\n",
    "                if constraint.is_unary and variable in constraint:  # that are unary on variable\n",
    "                    if not constraint.is_satisfied:  # if invalid\n",
    "                        variable.domain.remove(value)  # remove value from domain\n",
    "                        break  # no point carrying on\n",
    "            variable.value = None  # unassign value and move to next"
   ]
  },
  {
   "cell_type": "markdown",
   "id": "b0f2eea0-d5e3-4da3-bfd3-6cc0f2e033f3",
   "metadata": {},
   "source": [
    "We can execute it and see that we get the same result as in the lecture."
   ]
  },
  {
   "cell_type": "code",
   "execution_count": null,
   "id": "d564cb95-ccce-4022-a737-a23ac6fe8d0f",
   "metadata": {},
   "outputs": [],
   "source": [
    "make_node_consistent(csp)\n",
    "csp.domains"
   ]
  },
  {
   "cell_type": "code",
   "execution_count": null,
   "id": "a636da9c-9f8b-4155-bcbe-e1c616823424",
   "metadata": {},
   "outputs": [],
   "source": [
    "csp.arcs"
   ]
  },
  {
   "cell_type": "markdown",
   "id": "e93cba21-bd9f-460c-b13e-07f96c42ec84",
   "metadata": {},
   "source": [
    "## Arc Consistency\n",
    "\n",
    "A csp is arc consistent when all values in a variabl'e's domain satisfy that variable's binary constraint.\n",
    "\n",
    "An arc is directional interpretation of an edge in a factor graph.\n",
    "\n",
    "An arc can only be defined from  binary constraint: each binary constraint has two arcs.\n",
    "\n",
    "For a factor $f(A,B)$ we have the arc such that makes $A$ to $B$ and $B$ to $A$, such that $f(A,B) \\equiv\\hat{f}(A,B) \\equiv \\bar{f}(B,A)$.\n",
    "\n",
    "For example, for constraint, $f: A,B \\mapsto A > B$ we have two arcs: $A > B$ and $B < A$. This allows is the check the values of the first against the values of the second."
   ]
  },
  {
   "cell_type": "markdown",
   "id": "86241c0e-ba11-45cb-8f40-419717376151",
   "metadata": {},
   "source": [
    "To calculate arc consistency, we use an algorithm called AC-3. This has two main functions, the core AC-3 loop and a _revise_ function that takes an factor arc, $A\\to B$ and checks that all values in the domain of $A$ have a value in the domain of $B$ that can satisfy the constraint.\n",
    "\n",
    "If any value for $A$ does not have a permissible value for $B$, it is removed from the domain. We mark that the factor has been changed, as the AC-3 will need to perform more checks.\n",
    "\n",
    "```python\n",
    "def revise(factor, A, B):\n",
    "    is_revised = False\n",
    "    for value in A.domain:\n",
    "        A.value = value\n",
    "        is_valid_B = False\n",
    "        for _value in B.domain:\n",
    "            B.value = _value\n",
    "            if factor.is_satisfied:\n",
    "                is_valid_B = True\n",
    "            B.value = None\n",
    "        if not is_valid_B:\n",
    "            A.domain.remove(value)\n",
    "            is_revised = True\n",
    "        A.value = None\n",
    "    return is_revised\n",
    "```"
   ]
  },
  {
   "cell_type": "markdown",
   "id": "b247dbe2-aec1-4dd4-bc5f-67f45c324239",
   "metadata": {},
   "source": [
    "The AC-3 loop then uses this _revise_ function to iterate through arcs and revise. However if the domain is changed for any variable, any arcs that map to the revised variable are added back to the queue of arcs for potential revision.\n",
    "\n",
    "AC-3 is successful once it has revised all arcs, unless there is ever a domain that is empty: in which case there is no valid assignment for this CSP.\n",
    "\n",
    "```python\n",
    "def ac3(csp):\n",
    "    arcs = queue(csp.arcs)\n",
    "    while len(arcs) > 0:\n",
    "        f, A, B = arcs.pop()\n",
    "        if revise(f, A, B):\n",
    "            if len(A.domain) == 0:\n",
    "                return False\n",
    "            for factor in csp.constraints:\n",
    "                if factor.is_binary and A in factor and B not in factor:\n",
    "                    for arc in factor.arcs:\n",
    "                        if arc[-1] is A:\n",
    "                            arcs.push(arc)\n",
    "    return True\n",
    "```"
   ]
  },
  {
   "cell_type": "markdown",
   "id": "b6d3c715-51fd-4b18-9ec7-21dd9a4cb84f",
   "metadata": {},
   "source": [
    "Continuing with our function:"
   ]
  },
  {
   "cell_type": "code",
   "execution_count": null,
   "id": "47b9c339-578f-4111-bb09-e256b93b59a4",
   "metadata": {},
   "outputs": [],
   "source": [
    "csp.domains"
   ]
  },
  {
   "cell_type": "code",
   "execution_count": null,
   "id": "21ed53a8-574d-4e09-a84a-b2033fc50b84",
   "metadata": {},
   "outputs": [],
   "source": [
    "from constraints.csp.util import ac3\n",
    "ac3(csp)"
   ]
  },
  {
   "cell_type": "code",
   "execution_count": null,
   "id": "2f7dd2e1-ceec-42b6-b76f-091d432f8595",
   "metadata": {},
   "outputs": [],
   "source": [
    "csp.domains"
   ]
  },
  {
   "cell_type": "markdown",
   "id": "2e80ef65-d368-48b6-94d9-1c8f5f586de5",
   "metadata": {},
   "source": [
    "### Worked Example"
   ]
  },
  {
   "cell_type": "markdown",
   "id": "4fb46705-d01d-4dcd-a950-7a1dbc429b02",
   "metadata": {},
   "source": [
    "$$\\mathrm{variables} = \\{A, B\\},$$\n",
    "$$\\mathrm{domains} = \\{A\\in\\{1,2,3\\},B\\in\\{1,2,3\\}, C\\in\\{1,2,3\\}\\},$$\n",
    "$$\\mathrm{constraints} = \\{f_0, f_1\\}$$\n",
    "\n",
    "where \n",
    "\n",
    "$f_0: A,B \\mapsto A > B$\n",
    "\n",
    "$f_1: B,C \\mapsto B=C$"
   ]
  },
  {
   "cell_type": "code",
   "execution_count": null,
   "id": "6292ec0b-9a77-4393-8064-03ed737aef25",
   "metadata": {},
   "outputs": [],
   "source": [
    "X, Y, Z = (Variable({1,2,3}, name) for name in (\"A\",\"B\",\"C\"))\n",
    "\n",
    "print(f\"{X.name}: {X}, {Y.name}: {Y}, {Z.name}: {Z}\")\n",
    "\n",
    "constraints = [\n",
    "    Factor(lambda a,b: a>b, (X,Y)),\n",
    "    Factor(lambda a,b: a==b, (Y,Z))\n",
    "]\n",
    "\n",
    "csp = ConstraintSatisfactionProblem([X,Y,Z], constraints)\n",
    "print(csp.variables)\n",
    "print(csp.domains)\n",
    "print(csp.constraints)"
   ]
  },
  {
   "cell_type": "code",
   "execution_count": null,
   "id": "0ef29e66-9fee-4fa2-a942-b71032110ddf",
   "metadata": {},
   "outputs": [],
   "source": [
    "from constraints.csp.util import ac3\n",
    "ac3(csp)"
   ]
  },
  {
   "cell_type": "code",
   "execution_count": null,
   "id": "7106a39c-31df-4130-8cb3-2a2649a4dc42",
   "metadata": {},
   "outputs": [],
   "source": [
    "print(csp.domains)"
   ]
  }
 ],
 "metadata": {
  "kernelspec": {
   "display_name": "Python 3 (ipykernel)",
   "language": "python",
   "name": "python3"
  },
  "language_info": {
   "codemirror_mode": {
    "name": "ipython",
    "version": 3
   },
   "file_extension": ".py",
   "mimetype": "text/x-python",
   "name": "python",
   "nbconvert_exporter": "python",
   "pygments_lexer": "ipython3",
   "version": "3.11.5"
  }
 },
 "nbformat": 4,
 "nbformat_minor": 5
}
