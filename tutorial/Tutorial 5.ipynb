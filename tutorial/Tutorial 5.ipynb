{
 "cells": [
  {
   "cell_type": "markdown",
   "id": "96ffdadd-234d-490c-adfc-c5bde6ace531",
   "metadata": {},
   "source": [
    "![](https://raw.githubusercontent.com/wilocw/co2114-codebase/2024/static/0/uol_banner_red.png)\n",
    "\n",
    "# CO2114<br />Foundations in Artificial Intelligence"
   ]
  },
  {
   "cell_type": "markdown",
   "id": "c754001d-7f18-4238-89e2-d3bb1f30df74",
   "metadata": {},
   "source": [
    "# Tutorial 5 - AC-3\n",
    "\n",
    "In this tutorial, we will work through an example of the AC-3 algorithm, a method for acheiving arc consistency in a constraint satisfaction problem.\n",
    "\n",
    "**This worksheet complements the slides in Tutorial 5**"
   ]
  },
  {
   "cell_type": "markdown",
   "id": "c340687e-14b1-494a-be29-f18a8a5161a4",
   "metadata": {},
   "source": [
    "## Setup\n",
    "> **Run the following cell only if you are using Google Colab**"
   ]
  },
  {
   "cell_type": "code",
   "execution_count": null,
   "id": "f9423698-413d-4361-8545-83240a5a3422",
   "metadata": {},
   "outputs": [],
   "source": [
    "!pip install \"git+https://github.com/wilocw/co2114-codebase.git@2024#egg=agent&subdirectory=lab/src/2\"\n",
    "!pip install \"git+https://github.com/wilocw/co2114-codebase.git@2024#egg=search&subdirectory=lab/src/3\"\n",
    "!pip install \"git+https://github.com/wilocw/co2114-codebase.git@2024#egg=optimisation&subdirectory=lab/src/4\"\n",
    "!pip install \"git+https://github.com/wilocw/co2114-codebase.git@2024#egg=constraints&subdirectory=lab/src/5\""
   ]
  },
  {
   "cell_type": "markdown",
   "id": "e5a29ad4-3d55-4743-b0a7-1081756a49b6",
   "metadata": {},
   "source": [
    "## Imports"
   ]
  },
  {
   "cell_type": "code",
   "execution_count": 1,
   "id": "761db2e3-d3d7-4ae7-8cbc-931b5b2333f0",
   "metadata": {},
   "outputs": [],
   "source": [
    "from constraints.csp import ConstraintSatisfactionProblem, Variable, Factor"
   ]
  },
  {
   "cell_type": "markdown",
   "id": "2eabb3cc-5c40-429d-a2fe-17fcf145584a",
   "metadata": {},
   "source": [
    "### `csp.Variable`"
   ]
  },
  {
   "cell_type": "markdown",
   "id": "a0adf4a0-901a-4301-b8f5-7d6f06e89e5d",
   "metadata": {},
   "source": [
    "The `Variable` class is a data structure implemented to represent a variable in a constraint satisfaction problem.\n",
    "\n",
    "#### Constructor: \n",
    "```python\n",
    "A = Variable(domain, name=None)\n",
    "```\n",
    "\n",
    "#### Attributes:\n",
    "- value: `A.value`\n",
    "- domain: `A.domain`\n",
    "- name [optional]: `A.name`\n",
    "- is assigned: `A.is_assigned`"
   ]
  },
  {
   "cell_type": "code",
   "execution_count": 2,
   "id": "f6b75d4e-fdf8-41a0-8662-585d95f820e5",
   "metadata": {},
   "outputs": [
    {
     "data": {
      "text/plain": [
       "?"
      ]
     },
     "execution_count": 2,
     "metadata": {},
     "output_type": "execute_result"
    }
   ],
   "source": [
    "domain = {0, 1, 2}  # example domain\n",
    "A = Variable(domain, name=\"A\")\n",
    "A  # has no value"
   ]
  },
  {
   "cell_type": "code",
   "execution_count": 3,
   "id": "5c4a18c6-bc18-4830-9ac5-3f29fd8202b9",
   "metadata": {},
   "outputs": [
    {
     "data": {
      "text/plain": [
       "False"
      ]
     },
     "execution_count": 3,
     "metadata": {},
     "output_type": "execute_result"
    }
   ],
   "source": [
    "A.is_assigned"
   ]
  },
  {
   "cell_type": "code",
   "execution_count": 4,
   "id": "ace6ea64-aed0-4b95-9f14-9752046c0a4a",
   "metadata": {},
   "outputs": [
    {
     "data": {
      "text/plain": [
       "1"
      ]
     },
     "execution_count": 4,
     "metadata": {},
     "output_type": "execute_result"
    }
   ],
   "source": [
    "A.value = 1\n",
    "A"
   ]
  },
  {
   "cell_type": "code",
   "execution_count": 5,
   "id": "032c9318-e560-4106-85f8-738fb23eaa30",
   "metadata": {},
   "outputs": [
    {
     "data": {
      "text/plain": [
       "True"
      ]
     },
     "execution_count": 5,
     "metadata": {},
     "output_type": "execute_result"
    }
   ],
   "source": [
    "A.is_assigned"
   ]
  },
  {
   "cell_type": "code",
   "execution_count": 6,
   "id": "f7253607-e275-403a-86c0-5c126ece78e6",
   "metadata": {},
   "outputs": [
    {
     "name": "stdout",
     "output_type": "stream",
     "text": [
      "A: 4 not in domain {0, 1, 2}\n"
     ]
    }
   ],
   "source": [
    "try:\n",
    "    A.value = 4  # 4 is not in domain\n",
    "except Exception as e:\n",
    "    print(e)"
   ]
  },
  {
   "cell_type": "markdown",
   "id": "e41dd8d7-744e-479d-ad0f-a704bccc24a9",
   "metadata": {},
   "source": [
    "### `csp.Factor`"
   ]
  },
  {
   "cell_type": "markdown",
   "id": "42a4281f-21c7-41ab-a342-67b5b25c9c8f",
   "metadata": {},
   "source": [
    "The `Factor` class is the data structure representing a factorised constraint: a constraint and the variables as part of it.\n",
    "\n",
    "#### Constructor\n",
    "```python\n",
    "f = Factor(constraint, variables)\n",
    "```\n",
    "\n",
    "#### Attributes:\n",
    "- variables: `f.variables`\n",
    "- is satisfied: `f.is_satisfied` \n",
    "- is unary: `f.is_unary`\n",
    "- is binary: `f.is_binary`\n",
    "- is global: `f.is_global`\n",
    "\n",
    "It is also possible to evaluate a factor manually using `f(*variables)`. You also use the `in` keyword, to either check if a variable is in a factor, or iterate through variables, e.g.\n",
    "```python\n",
    "A in f  # true or false\n",
    "```\n",
    "or\n",
    "```python\n",
    "for variable in f:\n",
    "    ...\n",
    "```"
   ]
  },
  {
   "cell_type": "markdown",
   "id": "cb07d112-fe24-46ed-a085-8f5106e85df8",
   "metadata": {},
   "source": [
    "##### Unary Constraint"
   ]
  },
  {
   "cell_type": "code",
   "execution_count": 7,
   "id": "0ded0a8e-34c0-4abf-ad0a-6b0b1cf3b4b1",
   "metadata": {},
   "outputs": [
    {
     "data": {
      "text/plain": [
       "('A',)"
      ]
     },
     "execution_count": 7,
     "metadata": {},
     "output_type": "execute_result"
    }
   ],
   "source": [
    "constraint = lambda a: a >= 2\n",
    "f = Factor(constraint, A)\n",
    "f"
   ]
  },
  {
   "cell_type": "code",
   "execution_count": 8,
   "id": "dd8bb742-dc0a-4b84-9646-7d99a74f74e8",
   "metadata": {},
   "outputs": [
    {
     "name": "stdout",
     "output_type": "stream",
     "text": [
      "A: 1\n"
     ]
    },
    {
     "data": {
      "text/plain": [
       "False"
      ]
     },
     "execution_count": 8,
     "metadata": {},
     "output_type": "execute_result"
    }
   ],
   "source": [
    "print(f\"{A.name}: {A}\")\n",
    "f.is_satisfied"
   ]
  },
  {
   "cell_type": "code",
   "execution_count": 9,
   "id": "ed423c69-5d90-4334-80a6-59d41f36e3b7",
   "metadata": {},
   "outputs": [
    {
     "data": {
      "text/plain": [
       "True"
      ]
     },
     "execution_count": 9,
     "metadata": {},
     "output_type": "execute_result"
    }
   ],
   "source": [
    "f.is_unary"
   ]
  },
  {
   "cell_type": "markdown",
   "id": "54f32cc5-baae-4b98-9740-232ab5f2b9c8",
   "metadata": {},
   "source": [
    "##### Binary Constraint"
   ]
  },
  {
   "cell_type": "code",
   "execution_count": 10,
   "id": "290a3f75-0a6d-4227-9a54-49316454bcc4",
   "metadata": {},
   "outputs": [
    {
     "name": "stdout",
     "output_type": "stream",
     "text": [
      "A: 1, B: ?\n"
     ]
    },
    {
     "data": {
      "text/plain": [
       "('A', 'B')"
      ]
     },
     "execution_count": 10,
     "metadata": {},
     "output_type": "execute_result"
    }
   ],
   "source": [
    "B = Variable(domain, 'B')\n",
    "print(f\"{A.name}: {A}, {B.name}: {B}\")\n",
    "\n",
    "constraint = lambda a,b: a != b\n",
    "g = Factor(constraint, (A, B))\n",
    "g"
   ]
  },
  {
   "cell_type": "code",
   "execution_count": 11,
   "id": "02c6771e-818e-4963-bf3d-6709e01b7ef1",
   "metadata": {},
   "outputs": [
    {
     "data": {
      "text/plain": [
       "True"
      ]
     },
     "execution_count": 11,
     "metadata": {},
     "output_type": "execute_result"
    }
   ],
   "source": [
    "g.is_satisfied"
   ]
  },
  {
   "cell_type": "code",
   "execution_count": 12,
   "id": "9ff1516a-31f6-497c-9666-52752655a31e",
   "metadata": {},
   "outputs": [
    {
     "name": "stdout",
     "output_type": "stream",
     "text": [
      "A in f: True\n",
      "B in f: False\n",
      "A in g: True\n",
      "B in g: True\n"
     ]
    }
   ],
   "source": [
    "print(f\"A in f: {A in f}\")\n",
    "print(f\"B in f: {B in f}\")\n",
    "print(f\"A in g: {A in g}\")\n",
    "print(f\"B in g: {B in g}\")"
   ]
  },
  {
   "cell_type": "code",
   "execution_count": 13,
   "id": "0c27179c-997e-44d2-a9fc-34d382388325",
   "metadata": {},
   "outputs": [
    {
     "data": {
      "text/plain": [
       "False"
      ]
     },
     "execution_count": 13,
     "metadata": {},
     "output_type": "execute_result"
    }
   ],
   "source": [
    "g.is_unary"
   ]
  },
  {
   "cell_type": "code",
   "execution_count": 14,
   "id": "377370b8-734c-46d3-b607-b385a3e3f512",
   "metadata": {},
   "outputs": [
    {
     "data": {
      "text/plain": [
       "True"
      ]
     },
     "execution_count": 14,
     "metadata": {},
     "output_type": "execute_result"
    }
   ],
   "source": [
    "g.is_binary"
   ]
  },
  {
   "cell_type": "code",
   "execution_count": 15,
   "id": "e03f1cb9-ce15-46a3-ba7a-3fb856f2badf",
   "metadata": {},
   "outputs": [
    {
     "data": {
      "text/plain": [
       "('A', 'B')"
      ]
     },
     "execution_count": 15,
     "metadata": {},
     "output_type": "execute_result"
    }
   ],
   "source": [
    "constraint = lambda a,b: a==b\n",
    "h = Factor(constraint, (A, B))\n",
    "h"
   ]
  },
  {
   "cell_type": "code",
   "execution_count": 16,
   "id": "deda0f68-bcc9-4805-9299-58df61db6031",
   "metadata": {},
   "outputs": [
    {
     "name": "stdout",
     "output_type": "stream",
     "text": [
      "A: 1, B: ?\n"
     ]
    },
    {
     "data": {
      "text/plain": [
       "True"
      ]
     },
     "execution_count": 16,
     "metadata": {},
     "output_type": "execute_result"
    }
   ],
   "source": [
    "print(f\"{A.name}: {A}, {B.name}: {B}\")\n",
    "h.is_satisfied"
   ]
  },
  {
   "cell_type": "code",
   "execution_count": 17,
   "id": "ff6bf7e3-ba1b-4396-88af-1942b6753dcd",
   "metadata": {},
   "outputs": [
    {
     "name": "stdout",
     "output_type": "stream",
     "text": [
      "A: 1, B: 2\n"
     ]
    },
    {
     "data": {
      "text/plain": [
       "False"
      ]
     },
     "execution_count": 17,
     "metadata": {},
     "output_type": "execute_result"
    }
   ],
   "source": [
    "B.value = 2\n",
    "print(f\"{A.name}: {A}, {B.name}: {B}\")\n",
    "h.is_satisfied"
   ]
  },
  {
   "cell_type": "markdown",
   "id": "78a48a83-44b1-49af-9fd8-58a3d6546b63",
   "metadata": {},
   "source": [
    "##### Global Constraint"
   ]
  },
  {
   "cell_type": "code",
   "execution_count": 18,
   "id": "72ccd1f8-0bc8-4e52-9cd6-59bcf7d09f8f",
   "metadata": {},
   "outputs": [
    {
     "name": "stdout",
     "output_type": "stream",
     "text": [
      "C.domain={0, 1, 2}\n"
     ]
    }
   ],
   "source": [
    "C = Variable(domain, 'C')\n",
    "print(f\"{C.name}.domain={C.domain}\")"
   ]
  },
  {
   "cell_type": "code",
   "execution_count": 19,
   "id": "ab0340e4-8643-4e82-8967-0555fea62624",
   "metadata": {},
   "outputs": [
    {
     "data": {
      "text/plain": [
       "('A', 'B', 'C')"
      ]
     },
     "execution_count": 19,
     "metadata": {},
     "output_type": "execute_result"
    }
   ],
   "source": [
    "from constraints.csp import alldiff\n",
    "\n",
    "p = Factor(alldiff, (A, B, C))\n",
    "p"
   ]
  },
  {
   "cell_type": "code",
   "execution_count": 20,
   "id": "547eb12d-02b5-4979-b928-697521024d0a",
   "metadata": {},
   "outputs": [
    {
     "name": "stdout",
     "output_type": "stream",
     "text": [
      "A: 1, B: 2, C: ?\n"
     ]
    },
    {
     "data": {
      "text/plain": [
       "True"
      ]
     },
     "execution_count": 20,
     "metadata": {},
     "output_type": "execute_result"
    }
   ],
   "source": [
    "print(f\"{A.name}: {A}, {B.name}: {B}, {C.name}: {C}\")\n",
    "p.is_satisfied"
   ]
  },
  {
   "cell_type": "code",
   "execution_count": 21,
   "id": "5a74eddd-02b7-4cc1-9499-46a185a7916f",
   "metadata": {},
   "outputs": [
    {
     "name": "stdout",
     "output_type": "stream",
     "text": [
      "A: 1, B: 2, C: 2\n"
     ]
    },
    {
     "data": {
      "text/plain": [
       "False"
      ]
     },
     "execution_count": 21,
     "metadata": {},
     "output_type": "execute_result"
    }
   ],
   "source": [
    "C.value = 2\n",
    "print(f\"{A.name}: {A}, {B.name}: {B}, {C.name}: {C}\")\n",
    "p.is_satisfied"
   ]
  },
  {
   "cell_type": "markdown",
   "id": "ec661e0e-609a-4d6e-8419-f8bcbbc0d461",
   "metadata": {},
   "source": [
    "#### `csp.ConstraintSatisfactionProblem`"
   ]
  },
  {
   "attachments": {},
   "cell_type": "markdown",
   "id": "3c8e1e38-28b4-4929-a981-c09c554a8da0",
   "metadata": {},
   "source": [
    "A `ConstraintSatisfactionProblem` is simply the data structure that defines a CSP, defined by the variables, their domains and constraints.\n",
    "\n",
    "#### Constructor\n",
    "```python\n",
    "csp = ConstraintSatisfactionProblem(variables, constraints)\n",
    "```\n",
    "\n",
    "#### Attributes:\n",
    "- variables: `csp.variables`\n",
    "- domains: `csp.domains`\n",
    "- constraints: `csp.domains`"
   ]
  },
  {
   "cell_type": "markdown",
   "id": "00b1c5a1-1f27-427e-b588-5a3b1ffad423",
   "metadata": {},
   "source": [
    "#### Example"
   ]
  },
  {
   "cell_type": "markdown",
   "id": "cbb23ddf-4f20-4b7a-b69a-3f0c5a2df77d",
   "metadata": {},
   "source": [
    "$$\\mathrm{variables} = \\{A, B\\},$$\n",
    "$$\\mathrm{domains} = \\{A\\in\\{1,2,3\\},B\\in\\{1,2,3\\}\\},$$\n",
    "$$\\mathrm{constraints} = \\{f_0, f_1, f_2\\}$$\n",
    "\n",
    "where $f_0: A \\mapsto A >= 2$, $f_1: A,B \\mapsto A\\neq B$, and $f_2: B\\mapsto B\\text{ is even}$\n"
   ]
  },
  {
   "cell_type": "code",
   "execution_count": 22,
   "id": "50adbab1-095d-4b40-9f6d-ede2041c2df2",
   "metadata": {},
   "outputs": [],
   "source": [
    "A = Variable({1,2,3}, name='A')  # variable A and its domain\n",
    "B = Variable({1,2,3}, name='B')  # variable B and its domain"
   ]
  },
  {
   "cell_type": "code",
   "execution_count": 23,
   "id": "bc2f8d7f-a73b-40bc-aa44-2697d37c0c4c",
   "metadata": {},
   "outputs": [],
   "source": [
    "constraints = {\n",
    "    Factor(lambda a: a>=2, A),\n",
    "    Factor(lambda a,b: a != b, (A,B)),\n",
    "    Factor(lambda b: b%2 == 0, B)\n",
    "}"
   ]
  },
  {
   "cell_type": "code",
   "execution_count": 24,
   "id": "fdf1f6d8-48f9-4405-8149-743bec9ed789",
   "metadata": {},
   "outputs": [],
   "source": [
    "csp = ConstraintSatisfactionProblem([A,B], constraints)"
   ]
  },
  {
   "cell_type": "code",
   "execution_count": 25,
   "id": "c503e27a-6af4-4bfe-8dce-0288e1a17121",
   "metadata": {},
   "outputs": [
    {
     "data": {
      "text/plain": [
       "[?, ?]"
      ]
     },
     "execution_count": 25,
     "metadata": {},
     "output_type": "execute_result"
    }
   ],
   "source": [
    "csp.variables"
   ]
  },
  {
   "cell_type": "code",
   "execution_count": 26,
   "id": "5d8fa9a4-32a8-49f8-8ec6-1381210e70ad",
   "metadata": {},
   "outputs": [
    {
     "data": {
      "text/plain": [
       "{?: {1, 2, 3}, ?: {1, 2, 3}}"
      ]
     },
     "execution_count": 26,
     "metadata": {},
     "output_type": "execute_result"
    }
   ],
   "source": [
    "csp.domains"
   ]
  },
  {
   "cell_type": "code",
   "execution_count": 27,
   "id": "036545d3-300a-4b58-bd40-58c7c4db5aab",
   "metadata": {},
   "outputs": [
    {
     "data": {
      "text/plain": [
       "{('A', 'B'), ('A',), ('B',)}"
      ]
     },
     "execution_count": 27,
     "metadata": {},
     "output_type": "execute_result"
    }
   ],
   "source": [
    "csp.constraints"
   ]
  },
  {
   "cell_type": "code",
   "execution_count": 28,
   "id": "ebd8a4ac-7960-484e-b345-b7dfac7e1aa5",
   "metadata": {},
   "outputs": [
    {
     "data": {
      "text/plain": [
       "True"
      ]
     },
     "execution_count": 28,
     "metadata": {},
     "output_type": "execute_result"
    }
   ],
   "source": [
    "csp.is_consistent"
   ]
  },
  {
   "cell_type": "code",
   "execution_count": 29,
   "id": "e32eee25-ae79-4482-a8c5-d4e76924f51e",
   "metadata": {},
   "outputs": [
    {
     "data": {
      "text/plain": [
       "False"
      ]
     },
     "execution_count": 29,
     "metadata": {},
     "output_type": "execute_result"
    }
   ],
   "source": [
    "csp.is_complete"
   ]
  },
  {
   "cell_type": "markdown",
   "id": "89b709be-9088-4b3d-b3cf-f90144da3e54",
   "metadata": {},
   "source": [
    "## Node Consistency"
   ]
  },
  {
   "cell_type": "markdown",
   "id": "d4080a5e-063e-40d5-850a-e70ee6b6d050",
   "metadata": {},
   "source": [
    "..."
   ]
  },
  {
   "cell_type": "code",
   "execution_count": 68,
   "id": "dd3db0c4-1853-4613-9f3b-133c21eb12c7",
   "metadata": {},
   "outputs": [
    {
     "data": {
      "text/plain": [
       "{?: {1, 2, 3}, ?: {1, 2, 3}}"
      ]
     },
     "execution_count": 68,
     "metadata": {},
     "output_type": "execute_result"
    }
   ],
   "source": [
    "A = Variable({1,2,3}, name='A')  # variable A and its domain\n",
    "B = Variable({1,2,3}, name='B')  # variable B and its domain\n",
    "\n",
    "constraints = {\n",
    "    Factor(lambda a: a>=2, A),\n",
    "    Factor(lambda a,b: a != b, (A,B)),\n",
    "    Factor(lambda b: b%2 == 0, B)\n",
    "}\n",
    "\n",
    "csp = ConstraintSatisfactionProblem([A,B], constraints)\n",
    "csp.domains"
   ]
  },
  {
   "cell_type": "code",
   "execution_count": 69,
   "id": "2701c07b-05e3-47c0-b506-1b45e30e8154",
   "metadata": {},
   "outputs": [],
   "source": [
    "def make_node_consistent(csp):\n",
    "    for variable in csp.variables:\n",
    "        if variable.is_assigned: continue  # ignore any assigned variables\n",
    "        domain = variable.domain.copy()  # copy this to avoid set size change errors \n",
    "        for value in domain:\n",
    "            variable.value = value\n",
    "            for constraint in csp.constraints:\n",
    "                if constraint.is_unary and variable in constraint:\n",
    "                    if not constraint.is_satisfied:\n",
    "                        variable.domain.remove(value)\n",
    "                        break\n",
    "            variable.value = None"
   ]
  },
  {
   "cell_type": "code",
   "execution_count": 71,
   "id": "d564cb95-ccce-4022-a737-a23ac6fe8d0f",
   "metadata": {},
   "outputs": [
    {
     "data": {
      "text/plain": [
       "{?: {2, 3}, ?: {2}}"
      ]
     },
     "execution_count": 71,
     "metadata": {},
     "output_type": "execute_result"
    }
   ],
   "source": [
    "make_node_consistent(csp)\n",
    "csp.domains"
   ]
  },
  {
   "cell_type": "code",
   "execution_count": null,
   "id": "a636da9c-9f8b-4155-bcbe-e1c616823424",
   "metadata": {},
   "outputs": [],
   "source": []
  },
  {
   "cell_type": "code",
   "execution_count": 72,
   "id": "c62605c6-21db-43ec-9e21-fa14b01638ec",
   "metadata": {},
   "outputs": [],
   "source": [
    "def revise(factor):\n",
    "    if not factor.is_binary: return False\n",
    "    is_revised = False\n",
    "    A,B = factor.variables\n",
    "    if A.is_assigned or B.is_assigned: return False\n",
    "    for value in A.domain.copy():\n",
    "        A.value = value\n",
    "        for _value in B.domain:\n",
    "            B.value = _value\n",
    "            if not factor(A,B):\n",
    "                A.domain.remove(value)\n",
    "                is_revised = True\n",
    "            B.value = None\n",
    "        A.value = None\n",
    "    return is_revised"
   ]
  },
  {
   "cell_type": "code",
   "execution_count": 77,
   "id": "518ea868-a377-49bf-a008-2ad13f3083f0",
   "metadata": {},
   "outputs": [],
   "source": [
    "from collections import deque as queue\n",
    "\n",
    "def ac3(csp):\n",
    "    arcs = queue ([factor for factor in csp.constraints if factor.is_binary])\n",
    "    while len(arcs) > 0:\n",
    "        factor = arcs.pop()\n",
    "        A,B = factor.variables\n",
    "        if revise(factor):\n",
    "            if len(A.domain) == 0:\n",
    "                return False\n",
    "            for constraint in csp.constraints:\n",
    "                if constraint.is_binary and A in constraint:\n",
    "                    X,Y = constraint.variables\n",
    "                    if X == B or Y == B: continue\n",
    "                    arcs.push(constraint)\n",
    "    return True"
   ]
  },
  {
   "cell_type": "code",
   "execution_count": 78,
   "id": "47b9c339-578f-4111-bb09-e256b93b59a4",
   "metadata": {},
   "outputs": [
    {
     "data": {
      "text/plain": [
       "{?: {2, 3}, ?: {2}}"
      ]
     },
     "execution_count": 78,
     "metadata": {},
     "output_type": "execute_result"
    }
   ],
   "source": [
    "csp.domains"
   ]
  },
  {
   "cell_type": "code",
   "execution_count": 79,
   "id": "21ed53a8-574d-4e09-a84a-b2033fc50b84",
   "metadata": {},
   "outputs": [
    {
     "data": {
      "text/plain": [
       "True"
      ]
     },
     "execution_count": 79,
     "metadata": {},
     "output_type": "execute_result"
    }
   ],
   "source": [
    "ac3(csp)"
   ]
  },
  {
   "cell_type": "code",
   "execution_count": 81,
   "id": "6036d2b7-caf0-4024-8fc2-bf29e271485b",
   "metadata": {},
   "outputs": [
    {
     "data": {
      "text/plain": [
       "{?: {3}, ?: {2}}"
      ]
     },
     "execution_count": 81,
     "metadata": {},
     "output_type": "execute_result"
    }
   ],
   "source": [
    "csp.domains"
   ]
  },
  {
   "cell_type": "code",
   "execution_count": null,
   "id": "b2737149-208b-4418-8b76-8fe11b5a756f",
   "metadata": {},
   "outputs": [],
   "source": []
  }
 ],
 "metadata": {
  "kernelspec": {
   "display_name": "Python 3 (ipykernel)",
   "language": "python",
   "name": "python3"
  },
  "language_info": {
   "codemirror_mode": {
    "name": "ipython",
    "version": 3
   },
   "file_extension": ".py",
   "mimetype": "text/x-python",
   "name": "python",
   "nbconvert_exporter": "python",
   "pygments_lexer": "ipython3",
   "version": "3.11.5"
  }
 },
 "nbformat": 4,
 "nbformat_minor": 5
}
