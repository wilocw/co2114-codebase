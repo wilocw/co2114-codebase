{
 "cells": [
  {
   "cell_type": "markdown",
   "id": "dd379572-8f8d-426c-a0f9-c503c3d24039",
   "metadata": {},
   "source": [
    "![](https://raw.githubusercontent.com/wilocw/co2114-codebase/2024/static/0/uol_banner_red.png)\n",
    "\n",
    "# CO2114<br />Foundations in Artificial Intelligence"
   ]
  },
  {
   "cell_type": "markdown",
   "id": "ba766ed2-851e-4506-ac4c-39b91349866f",
   "metadata": {},
   "source": [
    "# Tutorial 1 - Shortest Path\n"
   ]
  },
  {
   "cell_type": "markdown",
   "id": "015b537d-a6a5-4c3b-a9f9-71257244fffa",
   "metadata": {},
   "source": [
    "##"
   ]
  },
  {
   "cell_type": "code",
   "execution_count": null,
   "id": "2206297b-20b8-426e-a625-7c64f58ca0ee",
   "metadata": {},
   "outputs": [],
   "source": []
  }
 ],
 "metadata": {
  "kernelspec": {
   "display_name": "Python 3 (ipykernel)",
   "language": "python",
   "name": "python3"
  },
  "language_info": {
   "codemirror_mode": {
    "name": "ipython",
    "version": 3
   },
   "file_extension": ".py",
   "mimetype": "text/x-python",
   "name": "python",
   "nbconvert_exporter": "python",
   "pygments_lexer": "ipython3",
   "version": "3.11.5"
  }
 },
 "nbformat": 4,
 "nbformat_minor": 5
}
