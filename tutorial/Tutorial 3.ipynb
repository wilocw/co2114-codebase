{
 "cells": [
  {
   "cell_type": "markdown",
   "id": "dd379572-8f8d-426c-a0f9-c503c3d24039",
   "metadata": {},
   "source": [
    "![](https://raw.githubusercontent.com/wilocw/co2114-codebase/2024/static/0/uol_banner_red.png)\n",
    "\n",
    "# CO2114<br />Foundations in Artificial Intelligence"
   ]
  },
  {
   "cell_type": "markdown",
   "id": "ba766ed2-851e-4506-ac4c-39b91349866f",
   "metadata": {},
   "source": [
    "# Tutorial 3 - Shortest Path\n"
   ]
  },
  {
   "cell_type": "markdown",
   "id": "015b537d-a6a5-4c3b-a9f9-71257244fffa",
   "metadata": {},
   "source": [
    "In this tutorial, we will be looking at **Dijkstra's method** for finding the shortest path between two nodes.\n",
    "\n",
    "Dijkstra's method, also sometimes known as uniform cost search, is an example of a best-first search where the heuristic is the next closest node from the initial state. It is typically applied on weighted graphs, where each action (i.e. traversal from one node to another) has a fixed cost."
   ]
  },
  {
   "cell_type": "markdown",
   "id": "9a6a6b02-426d-4c28-ae6a-12109cde3d64",
   "metadata": {},
   "source": [
    "## Setup\n",
    "> **Run the following cell only if you are using Google Colab**"
   ]
  },
  {
   "cell_type": "code",
   "execution_count": null,
   "id": "6f6a7ccc-cfd6-46c3-8cb6-2d6bf3904eb5",
   "metadata": {},
   "outputs": [],
   "source": [
    "!pip install \"git+https://github.com/wilocw/co2114-codebase.git@2024#egg=agent&subdirectory=lab/src/2\"\n",
    "!pip install \"git+https://github.com/wilocw/co2114-codebase.git@2024#egg=search&subdirectory=lab/src/3\""
   ]
  },
  {
   "cell_type": "markdown",
   "id": "1e13862b-2b15-495d-922b-0412969b4550",
   "metadata": {},
   "source": [
    "### Imports"
   ]
  },
  {
   "cell_type": "code",
   "execution_count": null,
   "id": "2206297b-20b8-426e-a625-7c64f58ca0ee",
   "metadata": {},
   "outputs": [],
   "source": [
    "from search.things import *\n",
    "from search.graph import *"
   ]
  },
  {
   "cell_type": "markdown",
   "id": "8abb71ff-922e-4096-b6a0-ffb65f51bc5d",
   "metadata": {},
   "source": [
    "## A Weighted Graph"
   ]
  },
  {
   "cell_type": "markdown",
   "id": "58e6f868-f577-42a5-8726-b0f345ce2c3b",
   "metadata": {},
   "source": [
    "Consider the following graph, defined by the vertices (aka nodes), edges, and weights."
   ]
  },
  {
   "cell_type": "code",
   "execution_count": null,
   "id": "4dd5d9ce-34ee-46fc-8bfc-1bdbdff6a567",
   "metadata": {},
   "outputs": [],
   "source": [
    "graph = {\n",
    "    \"vertices\": [\"A\",\"B\",\"C\",\"D\",\"E\",\"F\"],\n",
    "    \"edges\": [\n",
    "        [\"A\",\"B\"], [\"A\",\"D\"], [\"B\",\"D\"],\n",
    "        [\"B\",\"E\"], [\"D\",\"E\"], [\"D\",\"F\"],\n",
    "        [\"E\",\"F\"], [\"E\",\"C\"], [\"F\",\"C\"]],\n",
    "    \"weights\": [2, 8, 5, 6, 3, 2, 1, 9, 3]\n",
    "}\n",
    "environment = GraphEnvironment.from_dict(graph)\n",
    "environment.show(init=\"A\")"
   ]
  },
  {
   "cell_type": "markdown",
   "id": "3bde84e8-78dc-47fd-8403-4930d2867a0d",
   "metadata": {},
   "source": [
    "Let's say we are interested in identifying which path between $A$ and $C$ is shortest."
   ]
  },
  {
   "cell_type": "markdown",
   "id": "911948be-dd51-47f5-9545-8ac4f96677a6",
   "metadata": {},
   "source": [
    "### Dijkstra's Method\n",
    "\n",
    "Dijkstra's method involves visiting nodes in order of shortest path. At each step, the next node (representing the \"best\" choice) is the one that has the shortest distance from the initial state. This might be a node that is not adjacent to the current state.\n",
    "\n",
    "A record of distances is maintained as a global state of the agent. When a node is visited, its unvisited neighbours are updated such if a the distance to the neighbour is less than the distance of the current node plus the weight of the edge connecting the two nodes (i.e. the cost to travel there).\n",
    "\n",
    "This can be written as follows. Consider that an agent is at a node, $A$ which has a neighbour, $B$. The distance to $B$ (from the initial state) is updated based on the following expression:\n",
    "$d(B) = \\min(d(B), d(A) + c(A,B))$.\n",
    "\n",
    "If the distance is updated, a record of the current node is added to neighbour as it's \"previous node\". This indicates, e.g.,  that the shortest path to $B$ is via $A$.\n",
    "\n",
    "In other words, \n",
    "\n",
    "```python\n",
    "if d(B) > (d(A) + c(A,B)):\n",
    "    d(B) = d(A) + c(A,B)\n",
    "    p(B) = A\n",
    "```\n",
    "\n",
    "Once all the neighbours of a node have had their distances updated, the current node is marked as visited, and the agent moves to the node with the minimum distance that has not been visited. The process is updated and iterated until the target node has been reached."
   ]
  },
  {
   "cell_type": "markdown",
   "id": "bf4a1f2c-4821-4057-aff6-f89b3bd6f15d",
   "metadata": {},
   "source": [
    "Pseudo-code for the algorithm for a given `graph`, and `init` and `target` nodes is shown:\n",
    "\n",
    "```python\n",
    "def dijkstra(graph, init, target=None):\n",
    "    for v in graph.nodes:\n",
    "        dist[v] = infinity\n",
    "        prev[v] = None\n",
    "        unvisited.add(v)\n",
    "    dist[init] = 0\n",
    "\n",
    "    while target in unvisited or (target is None and unvisited not empty):\n",
    "        u = None\n",
    "        for v in unvisited:\n",
    "            if u is None or dist[v] < dist[u]:\n",
    "                u = v\n",
    "    \n",
    "        for v in u.neighbours:\n",
    "            if v not in unvisited:\n",
    "                continue\n",
    "            alt = dist[u] + weight(u, v)\n",
    "            if alt < dist[v]:\n",
    "                dist[v] = alt\n",
    "                prev[v] = u\n",
    "\n",
    "        unvisited.remove(u)\n",
    "    return dist, prev\n",
    "```"
   ]
  },
  {
   "cell_type": "markdown",
   "id": "2f10bfb1-97d8-48b6-a9a0-157c1adc6f07",
   "metadata": {},
   "source": [
    "Note that the distance of all nodes, `dist[v]` for `v` in `graph.nodes`, is initialised as $\\infinity$: this means that any new distance is always going to be less the first time it is queried. Likewise, all nodes are added to the set of `unvisited` nodes, with the distance of the `init` node (from itself) is set to zero.\n",
    "\n",
    "The algorthm will iterate until the `target` node is visited, or if no `target` is provided, until all nodes are visited.\n",
    "\n",
    "The algorithm returns `dist`, the path cost between the initial node and all visited nodes, and `prev`, the \"previous\" node in the shortest path to each node. The latter can be used to back track to find the shortest path."
   ]
  },
  {
   "cell_type": "markdown",
   "id": "a892dc93-5663-4c8a-bf32-39e18a2443ae",
   "metadata": {},
   "source": [
    "## Shortest Path from A\n",
    "\n",
    "We will work through the algorithm in this example:"
   ]
  },
  {
   "cell_type": "markdown",
   "id": "24066bbb-d3ea-4319-a5c6-74a615a6e086",
   "metadata": {},
   "source": [
    "| Node | Shortest Distance from A | Previous Node |\n",
    "|------|--------------------------|---------------|\n",
    "| **A**    |  0   |     |\n",
    "| _B_    | $\\infty$ |     |\n",
    "| C    | $\\infty$ |     |\n",
    "| _D_    | $\\infty$ |     |\n",
    "| E    | $\\infty$ |     |\n",
    "| F    | $\\infty$ |     |\n",
    "\n",
    "```\n",
    "unvisited = [A,B,C,D,E,F]\n",
    "```"
   ]
  },
  {
   "cell_type": "markdown",
   "id": "8e62496c-f817-4a1d-beed-2d93b661d944",
   "metadata": {},
   "source": [
    "| Node | Shortest Distance from A | Previous Node |\n",
    "|------|--------------------------|---------------|\n",
    "| **A**    |  0   |     |\n",
    "| _B_  | 2 |  A    |\n",
    "| C    | $\\infty$ |     |\n",
    "| _D_    | $\\infty$ |     |\n",
    "| E    | $\\infty$ |     |\n",
    "| F    | $\\infty$ |     |\n",
    "\n",
    "```\n",
    "unvisited = [A,B,C,D,E,F]\n",
    "```"
   ]
  },
  {
   "cell_type": "markdown",
   "id": "6740bdb7-de9a-4ea0-aa2d-c0ca4bb2adbb",
   "metadata": {},
   "source": [
    "| Node | Shortest Distance from A | Previous Node |\n",
    "|------|--------------------------|---------------|\n",
    "| **A**    |  0   |     |\n",
    "| _B_    | 2 |  A    |\n",
    "| C    | $\\infty$ |     |\n",
    "| _D_    | 8 |   A  |\n",
    "| E    | $\\infty$ |     |\n",
    "| F    | $\\infty$ |     |\n",
    "\n",
    "```\n",
    "unvisited = [B,C,D,E,F]\n",
    "```"
   ]
  },
  {
   "cell_type": "markdown",
   "id": "8b51af4e-2b9d-4e7b-bd35-c50344ee7225",
   "metadata": {},
   "source": [
    "### Next node: B"
   ]
  },
  {
   "cell_type": "markdown",
   "id": "8fd68097-adf0-4cae-8d59-2092e7c90b97",
   "metadata": {},
   "source": [
    "| Node | Shortest Distance from A | Previous Node |\n",
    "|------|--------------------------|---------------|\n",
    "| A    |  0   |     |\n",
    "| **B**    | **2** |  A    |\n",
    "| C    | $\\infty$ |     |\n",
    "| _D_    | 8 |   A  |\n",
    "| _E_    | $\\infty$ |     |\n",
    "| F    | $\\infty$ |     |\n",
    "\n",
    "```\n",
    "unvisited = [B,C,D,E,F]\n",
    "```"
   ]
  },
  {
   "cell_type": "markdown",
   "id": "9ef11bb7-59b7-4a0b-8131-90735226e165",
   "metadata": {},
   "source": [
    "| Node | Shortest Distance from A | Previous Node |\n",
    "|------|--------------------------|---------------|\n",
    "| A    |  0   |     |\n",
    "| **B**    | **2** |  A    |\n",
    "| C    | $\\infty$ |     |\n",
    "| _D_    | _8_ |   A  |\n",
    "| _E_    | _2+6_ |     |\n",
    "| F    | $\\infty$ |     |\n",
    "\n",
    "```\n",
    "unvisited = [B,C,D,E,F]\n",
    "```"
   ]
  },
  {
   "cell_type": "markdown",
   "id": "39a27c7d-facf-4ea4-9588-8cc728a1dd41",
   "metadata": {},
   "source": [
    "| Node | Shortest Distance from A | Previous Node |\n",
    "|------|--------------------------|---------------|\n",
    "| A    |  0   |     |\n",
    "| **B**    | **2** |  A    |\n",
    "| C    | $\\infty$ |     |\n",
    "| _D_   | _2+5_ |   B  |\n",
    "| _E_    | _8_ |  B   |\n",
    "| F    | $\\infty$ |     |\n",
    "\n",
    "```\n",
    "unvisited = [B,C,D,E,F]\n",
    "```"
   ]
  },
  {
   "cell_type": "markdown",
   "id": "00854e0e-b982-460c-b57a-8b2d52d981a3",
   "metadata": {},
   "source": [
    "| Node | Shortest Distance from A | Previous Node |\n",
    "|------|--------------------------|---------------|\n",
    "| A    |  0   |     |\n",
    "| **B**    | **2** |  A    |\n",
    "| C    | $\\infty$ |     |\n",
    "| _D_   | _7_ |   B  |\n",
    "| _E_    | _8_ |  B   |\n",
    "| F    | $\\infty$ |     |\n",
    "\n",
    "```\n",
    "unvisited = [C,D,E,F]\n",
    "```"
   ]
  },
  {
   "cell_type": "markdown",
   "id": "7eb69fd5-006a-4089-8664-9b6cfbfdd64d",
   "metadata": {},
   "source": [
    "### Next Node: D"
   ]
  },
  {
   "cell_type": "markdown",
   "id": "b4b9166c-ccfd-4ac8-806e-f8a5c3e60f8d",
   "metadata": {},
   "source": [
    "| Node | Shortest Distance from A | Previous Node |\n",
    "|------|--------------------------|---------------|\n",
    "| A    |  0   |     |\n",
    "| B    | 2 |  A    |\n",
    "| C    | $\\infty$ |     |\n",
    "| **D**   | **7** |   B  |\n",
    "| _E_    | _8_ |  B   |\n",
    "| _F_    | $\\infty$ |     |\n",
    "\n",
    "```\n",
    "unvisited = [C,D,E,F]\n",
    "```"
   ]
  },
  {
   "cell_type": "markdown",
   "id": "c0a0ce1a-e794-436d-a9cc-962e033de837",
   "metadata": {},
   "source": [
    "| Node | Shortest Distance from A | Previous Node |\n",
    "|------|--------------------------|---------------|\n",
    "| A    |  0   |     |\n",
    "| B    | 2 |  A    |\n",
    "| C    | $\\infty$ |     |\n",
    "| **D**   | **7** |   B  |\n",
    "| _E_    | _8_ |  B   |\n",
    "| _F_    | _7+2_ |     |\n",
    "\n",
    "```\n",
    "unvisited = [C,D,E,F]\n",
    "```"
   ]
  },
  {
   "cell_type": "markdown",
   "id": "c97aaebd-04fc-484e-96cb-b780901707e4",
   "metadata": {},
   "source": [
    "| Node | Shortest Distance from A | Previous Node |\n",
    "|------|--------------------------|---------------|\n",
    "| A    |  0   |     |\n",
    "| B    | 2 |  A    |\n",
    "| C    | $\\infty$ |     |\n",
    "| **D**   | **7** |   B  |\n",
    "| _E_    | _7+3_ (> 8) |  B   |\n",
    "| _F_    | _9_ |  D   |\n",
    "\n",
    "```\n",
    "unvisited = [C,D,E,F]\n",
    "```"
   ]
  },
  {
   "cell_type": "markdown",
   "id": "e4236cde-2430-4e7b-a7c4-97d9a44a52fb",
   "metadata": {},
   "source": [
    "| Node | Shortest Distance from A | Previous Node |\n",
    "|------|--------------------------|---------------|\n",
    "| A    |  0   |     |\n",
    "| B    | 2 |  A    |\n",
    "| C    | $\\infty$ |     |\n",
    "| **D**   | **7** |   B  |\n",
    "| _E_    | _8_ |  B   |\n",
    "| _F_    | _9_ |  D   |\n",
    "\n",
    "```\n",
    "unvisited = [C,E,F]\n",
    "```"
   ]
  },
  {
   "cell_type": "markdown",
   "id": "c0b70739-26bb-41c7-8f1d-f3f671f16b85",
   "metadata": {},
   "source": [
    "### Next Node: E"
   ]
  },
  {
   "cell_type": "markdown",
   "id": "9d24021e-e3fb-4651-ae98-2f608b66ccef",
   "metadata": {},
   "source": [
    "| Node | Shortest Distance from A | Previous Node |\n",
    "|------|--------------------------|---------------|\n",
    "| A    |  0   |     |\n",
    "| B    | 2 |  A    |\n",
    "| _C_    | $\\infty$ |     |\n",
    "| D   | 7 |   B  |\n",
    "| **E**    | **8** |  B   |\n",
    "| _F_    | _9_ |  D   |\n",
    "\n",
    "```\n",
    "unvisited = [C,E,F]\n",
    "```"
   ]
  },
  {
   "cell_type": "markdown",
   "id": "a9a00e66-58a7-4db1-ab5a-a688ce239f4a",
   "metadata": {},
   "source": [
    "| Node | Shortest Distance from A | Previous Node |\n",
    "|------|--------------------------|---------------|\n",
    "| A    |  0   |     |\n",
    "| B    | 2 |  A    |\n",
    "| _C_    | _8 + 9_ |     |\n",
    "| D   | 7 |   B  |\n",
    "| **E**    | **8** |  B   |\n",
    "| _F_    | _9_ |  D   |\n",
    "\n",
    "```\n",
    "unvisited = [C,E,F]\n",
    "```"
   ]
  },
  {
   "cell_type": "markdown",
   "id": "c57d9afb-3a15-4478-96c5-1b2d2eeda85d",
   "metadata": {},
   "source": [
    "| Node | Shortest Distance from A | Previous Node |\n",
    "|------|--------------------------|---------------|\n",
    "| A    |  0   |     |\n",
    "| B    | 2 |  A    |\n",
    "| _C_    | _17_ |  E   |\n",
    "| D   | 7 |   B  |\n",
    "| **E**    | **8** |  B   |\n",
    "| _F_    | _8+1 (=9)_ |  D   |\n",
    "\n",
    "```\n",
    "unvisited = [C,E,F]\n",
    "```"
   ]
  },
  {
   "cell_type": "markdown",
   "id": "b09c9b71-e60b-4f55-9a70-9df4b27b65e4",
   "metadata": {},
   "source": [
    "| Node | Shortest Distance from A | Previous Node |\n",
    "|------|--------------------------|---------------|\n",
    "| A    |  0   |     |\n",
    "| B    | 2 |  A    |\n",
    "| _C_    | _17_ |  E   |\n",
    "| D   | 7 |   B  |\n",
    "| **E**    | **8** |  B   |\n",
    "| _F_    | _9_ |  D   |\n",
    "\n",
    "```\n",
    "unvisited = [C,F]\n",
    "```"
   ]
  },
  {
   "cell_type": "markdown",
   "id": "70172292-1ac5-4680-b58d-4358a072b442",
   "metadata": {},
   "source": [
    "### Next Node: F"
   ]
  },
  {
   "cell_type": "markdown",
   "id": "ca50de72-3c33-4182-acd2-01e687561bd4",
   "metadata": {},
   "source": [
    "| Node | Shortest Distance from A | Previous Node |\n",
    "|------|--------------------------|---------------|\n",
    "| A    |  0   |     |\n",
    "| B    | 2 |  A    |\n",
    "| _C_    | _17_ |  E   |\n",
    "| D   | 7 |   B  |\n",
    "| E    | 8 |  B   |\n",
    "| **F**    | **9** |  D   |\n",
    "\n",
    "```\n",
    "unvisited = [C,F]\n",
    "```"
   ]
  },
  {
   "cell_type": "markdown",
   "id": "2f6cf418-1223-419f-843e-dc14999ae8ae",
   "metadata": {},
   "source": [
    "| Node | Shortest Distance from A | Previous Node |\n",
    "|------|--------------------------|---------------|\n",
    "| A    |  0   |     |\n",
    "| B    | 2 |  A    |\n",
    "| _C_    | _9+3 (<17)_ |  E   |\n",
    "| D   | 7 |   B  |\n",
    "| E    | 8 |  B   |\n",
    "| **F**    | **9** |  D   |\n",
    "\n",
    "```\n",
    "unvisited = [C,F]\n",
    "```"
   ]
  },
  {
   "cell_type": "markdown",
   "id": "9a176e3f-20eb-447e-99d2-f158ae158eee",
   "metadata": {},
   "source": [
    "| Node | Shortest Distance from A | Previous Node |\n",
    "|------|--------------------------|---------------|\n",
    "| A    |  0   |     |\n",
    "| B    | 2 |  A    |\n",
    "| _C_    | _12_ |  F   |\n",
    "| D   | 7 |   B  |\n",
    "| E    | 8 |  B   |\n",
    "| **F**    | **9** |  D   |\n",
    "\n",
    "```\n",
    "unvisited = [C]\n",
    "```"
   ]
  },
  {
   "cell_type": "markdown",
   "id": "771f3701-507b-4d35-86aa-4baed49dda0b",
   "metadata": {},
   "source": [
    "### Next Node: C"
   ]
  },
  {
   "cell_type": "markdown",
   "id": "43afbabe-b059-4930-9b54-f3fd11aeffc5",
   "metadata": {},
   "source": [
    "| Node | Shortest Distance from A | Previous Node |\n",
    "|------|--------------------------|---------------|\n",
    "| A    |  0   |     |\n",
    "| B    | 2 |  A    |\n",
    "| **C**    | **12** |  F   |\n",
    "| D   | 7 |   B  |\n",
    "| E    | 8 |  B   |\n",
    "| F    | 9 |  D   |\n",
    "\n",
    "```\n",
    "unvisited = [C]\n",
    "```"
   ]
  },
  {
   "cell_type": "markdown",
   "id": "66e84053-414f-4aa2-9722-1239ac5b6b6d",
   "metadata": {},
   "source": [
    "_No remaining unvisited neighbours_"
   ]
  },
  {
   "cell_type": "markdown",
   "id": "7b7d8615-e361-4cb0-8194-7815dad4af3d",
   "metadata": {},
   "source": [
    "| Node | Shortest Distance from A | Previous Node |\n",
    "|------|--------------------------|---------------|\n",
    "| A    |  0   |     |\n",
    "| B    | 2 |  A    |\n",
    "| **C**    | **12** |  F   |\n",
    "| D   | 7 |   B  |\n",
    "| E    | 8 |  B   |\n",
    "| F    | 9 |  D   |\n",
    "\n",
    "```\n",
    "unvisited = []\n",
    "```"
   ]
  },
  {
   "cell_type": "markdown",
   "id": "dc02ee01-ec13-47ac-9513-ef240b532eb4",
   "metadata": {},
   "source": [
    "The length of the shortest path between $A$ and $C$ is 12. But we want to find _what that path is_."
   ]
  },
  {
   "cell_type": "markdown",
   "id": "a07befd2-ec99-465d-b88f-d5e6b9af7244",
   "metadata": {},
   "source": [
    "## Shortest Path"
   ]
  },
  {
   "cell_type": "markdown",
   "id": "fffeddb2-67be-4833-935b-cbee5f25c828",
   "metadata": {},
   "source": [
    "Luckily, we have this information in our list of previous nodes, `prev` in the previous psuedocode.\n",
    "\n",
    "We can back track from the target until we get to the initial node, as for each node, the previous node is the one from which it has shortest path to the initial. We can iterate through by creating a stack, pushing the target node first. The next node to be pushed is its previous node. Then we push the previous node of _that_ node, and so on until we have pushed the $A$ to the stack. The stack then represents the shortest path from the initial to the target."
   ]
  },
  {
   "cell_type": "markdown",
   "id": "3cb86599-07c8-4a57-8bb3-453a2993ba4f",
   "metadata": {},
   "source": [
    "```python\n",
    "def shortest_path(init, target, prev)\n",
    "    u = target\n",
    "    path = stack()\n",
    "    path.push(u)\n",
    "    while u is not init:\n",
    "        u = prev[u]\n",
    "        path.push(u)\n",
    "    return path\n",
    "```"
   ]
  },
  {
   "cell_type": "markdown",
   "id": "29350669-fcc8-4ec8-98c4-bf6915dad729",
   "metadata": {},
   "source": [
    "C"
   ]
  },
  {
   "cell_type": "markdown",
   "id": "32830d5a-9032-44d3-94ef-21b0f7ae69c6",
   "metadata": {},
   "source": [
    "F"
   ]
  },
  {
   "cell_type": "markdown",
   "id": "857d26d7-abe6-42f6-a40f-9e0af1e15169",
   "metadata": {},
   "source": [
    "D"
   ]
  },
  {
   "cell_type": "markdown",
   "id": "d2800ccf-5b62-45cd-b513-0259d92e738a",
   "metadata": {},
   "source": [
    "B"
   ]
  },
  {
   "cell_type": "markdown",
   "id": "81c711f4-4adf-4887-bd86-25a834fa90e3",
   "metadata": {},
   "source": [
    "A"
   ]
  },
  {
   "cell_type": "markdown",
   "id": "a2de7c67-6619-4346-85c5-baf5fc927f5f",
   "metadata": {},
   "source": [
    "### Shortest Path Agent\n",
    "\n",
    "We can implement this using an agent-based approach, by defining our environment as a graph with nodes (more details in Lab 3).\n",
    "\n",
    "We have a set of graph, made up of nodes which have a set of neighbours defined by tuples `(node, weight)`.\n",
    "\n",
    "Our shortest path environment will provide the agent with its current location's neighbours as a percept (its location will always be a node on the graph).\n",
    "\n",
    "We will consider the environment done when it has been provided with the shortest path, and it can execute two possible actions: the agent exploring a node, or delivering the shortest path to the target."
   ]
  },
  {
   "cell_type": "markdown",
   "id": "c7df4f70-0fd3-4458-98e5-e5ca75679783",
   "metadata": {},
   "source": [
    "```python\n",
    "class ShortestPathEnvironment(GraphEnvironment):\n",
    "\n",
    "    def percept(self, agent):\n",
    "        return agent.location.neighbours\n",
    "    \n",
    "    def add_agent(self, agent, init, target):\n",
    "        agent.initialise(init, target)\n",
    "        self.agents.add(agent)\n",
    "\n",
    "    @property\n",
    "    def is_done(self):\n",
    "        return hasattr(self, \"shortest_path\")\n",
    "    \n",
    "    def execute_action(self, agent, action):\n",
    "        command, node = action\n",
    "        match command:\n",
    "            case \"explore\":\n",
    "                agent.explore(node)\n",
    "            case \"deliver\":\n",
    "                self.shortest_path = agent.deliver()\n",
    "```"
   ]
  },
  {
   "cell_type": "markdown",
   "id": "ecad7aec-21e1-450f-bd97-1f134907a7d7",
   "metadata": {},
   "source": [
    "The agent is an example of a utility-based agent, as it is seeking to maximise its utility by choosing the _best_ choice for the next node to explore.\n",
    "\n",
    "The agent will act by exploring nodes until it has reached its goal: i.e. it has visited the target node.\n",
    "\n",
    "The utility of a given action is defined by the _negative_ distance of a possible node to the initial state. Maximising the negative distance is equivalent to choosing the smallest distance."
   ]
  },
  {
   "cell_type": "markdown",
   "id": "f2c67d5d-64a0-4e99-b805-3b0c9d942627",
   "metadata": {},
   "source": [
    "```python\n",
    "class ShortestPathAgent(UtilityBasedAgent):\n",
    "    def __init__(self):\n",
    "        self.dist = {}\n",
    "        self.prev = {}\n",
    "        self.visited = set()\n",
    "\n",
    "    @property\n",
    "    def at_goal(self):\n",
    "        return self.location is self.target\n",
    "\n",
    "    def initialise(self, node, target):\n",
    "        self.init = node\n",
    "        self.target = target\n",
    "        self.dist[node] = 0\n",
    "    \n",
    "    def explore(self, node):  # actuator\n",
    "        self.visited.add(self.location)\n",
    "        self.location = node\n",
    "\n",
    "    def deliver(self):  # actuator\n",
    "        path = stack()\n",
    "        curr = self.target\n",
    "        path.push(curr)\n",
    "        while curr is not self.init:\n",
    "            curr = self.prev[curr]\n",
    "            path.push(curr)\n",
    "        return path, self.dist[node]\n",
    "\n",
    "    \n",
    "    def program(self, percepts):\n",
    "        if self.at_goal:\n",
    "            return (\"deliver\", self.target)\n",
    "            \n",
    "        for neighbour, weight in percepts:\n",
    "            if neighbour in self.visited:\n",
    "                continue\n",
    "                \n",
    "            alt = self.dist[self.location] + weight\n",
    "            if neighbour not in self.dist or  # equivalent to dist[neighbour] = inf\n",
    "                    alt < self.dist[neighbour]:\n",
    "                self.dist[neighbour] = alt\n",
    "                self.prev[neighbour] = self.location\n",
    "                    \n",
    "        action = self.maximise_utility(\n",
    "            [(\"explore\", node) \n",
    "                 for node in self.dist if (\n",
    "                     node is not self.location and\n",
    "                         node not in self.visited)])\n",
    "        \n",
    "        return action\n",
    "\n",
    "    def utility(self, action):\n",
    "        value = self.dist[action[1]]\n",
    "        return -value  # maximising a value is equivalent to minimising its negative\n",
    "```"
   ]
  },
  {
   "cell_type": "markdown",
   "id": "c9f0f035-e552-42f4-b0a0-fea3f9f9ea37",
   "metadata": {},
   "source": [
    "We can see this in action on the graph, and see that our example above is correct:"
   ]
  },
  {
   "cell_type": "code",
   "execution_count": null,
   "id": "ab7612f3-9390-4b38-899e-604d056d078d",
   "metadata": {},
   "outputs": [],
   "source": [
    "environment = ShortestPathEnvironment.from_dict(graph)\n",
    "\n",
    "environment.add_agent(ShortestPathAgent(), init=\"A\", target=\"C\")\n",
    "\n",
    "environment.show()\n",
    "environment.run(pause_for_user=False)"
   ]
  },
  {
   "cell_type": "markdown",
   "id": "2549c6d2-b300-468f-b5a8-29f66ea92e5f",
   "metadata": {},
   "source": [
    "## Exercise: Shortest Path between UK Cities"
   ]
  },
  {
   "cell_type": "markdown",
   "id": "fccfa4d3-521e-449c-9d4d-046b3adaa5f7",
   "metadata": {},
   "source": [
    "Try out the `ShortestPathEnvironment` and `Agent` with the UK cities network from the lecture:\n",
    "\n",
    "![](https://raw.githubusercontent.com/wilocw/co2114-codebase/2024/static/0/UK_search_nodes.png)"
   ]
  },
  {
   "cell_type": "code",
   "execution_count": null,
   "id": "a237f45b-4c88-4ae1-99a3-12ce0a75e1a4",
   "metadata": {},
   "outputs": [],
   "source": [
    "network = UK_CITIES_GRAPH\n",
    "display(list(zip(network['edges'], network['weights'])))"
   ]
  },
  {
   "cell_type": "code",
   "execution_count": null,
   "id": "6e516633-faac-4f8a-89ac-2b43a842876b",
   "metadata": {},
   "outputs": [],
   "source": [
    "environment = ShortestPathEnvironment.from_dict(network)\n",
    "\n",
    "environment.add_agent(ShortestPathAgent(), init=\"Sheffield\", target=\"Cardiff\")\n",
    "environment.run(pause_for_user=False)"
   ]
  }
 ],
 "metadata": {
  "kernelspec": {
   "display_name": "Python 3 (ipykernel)",
   "language": "python",
   "name": "python3"
  },
  "language_info": {
   "codemirror_mode": {
    "name": "ipython",
    "version": 3
   },
   "file_extension": ".py",
   "mimetype": "text/x-python",
   "name": "python",
   "nbconvert_exporter": "python",
   "pygments_lexer": "ipython3",
   "version": "3.11.5"
  }
 },
 "nbformat": 4,
 "nbformat_minor": 5
}
